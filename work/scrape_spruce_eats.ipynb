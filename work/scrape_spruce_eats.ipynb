{
 "cells": [
  {
   "cell_type": "markdown",
   "metadata": {},
   "source": [
    "# Scrape Spruce Eats"
   ]
  },
  {
   "cell_type": "markdown",
   "metadata": {},
   "source": [
    "### Imports and Functions"
   ]
  },
  {
   "cell_type": "code",
   "execution_count": 63,
   "metadata": {},
   "outputs": [],
   "source": [
    "import pandas as pd\n",
    "import numpy as np\n",
    "import requests\n",
    "import unicodedata\n",
    "import re\n",
    "import time\n",
    "from bs4 import BeautifulSoup\n",
    "\n",
    "from code.lw_pickle import var_to_pickle, read_pickle"
   ]
  },
  {
   "cell_type": "markdown",
   "metadata": {},
   "source": [
    "### Get List of Cocktail Links"
   ]
  },
  {
   "cell_type": "code",
   "execution_count": 64,
   "metadata": {},
   "outputs": [],
   "source": [
    "links_pk = '../data/se_drink_links.pk'\n",
    "drink_links = read_pickle(links_pk)\n",
    "\n",
    "# Scrape data only if pickle of links does not exist\n",
    "if not drink_links:\n",
    "    drink_links = []\n",
    "    url = 'https://www.thespruceeats.com/a-to-z-cocktail-recipes-3962886'\n",
    "    response = requests.get(url)\n",
    "    soup = BeautifulSoup(response.text, 'lxml')\n",
    "    \n",
    "    # Gets list of all list items containing a beverage\n",
    "    list_items = soup.findAll('li', {'class':'', 'id':''})\n",
    "    for item in list_items:\n",
    "        \n",
    "        # Gets recipe url and skips item if there isn't one\n",
    "        a_tag = item.a\n",
    "        if not a_tag:\n",
    "            continue\n",
    "        url = a_tag.get('href').strip()\n",
    "        \n",
    "        # Gets base spirits and skips item if there aren't any\n",
    "        base_spirits = item.text.replace(a_tag.text, '').lower().strip()\n",
    "        if not base_spirits:\n",
    "            continue\n",
    "            \n",
    "        # Assigns name, base spirit, and recipe link to dictionary\n",
    "        name = a_tag.text.lower().strip()\n",
    "        drink_links.append({\n",
    "            'name':name,\n",
    "            'base_spirits':base_spirits,\n",
    "            'url':url\n",
    "        })\n",
    "        \n",
    "    # Writes out pickle of links\n",
    "    var_to_pickle(drink_links, links_pk)"
   ]
  },
  {
   "cell_type": "markdown",
   "metadata": {},
   "source": [
    "### Create DataFrame and Clean Data"
   ]
  },
  {
   "cell_type": "code",
   "execution_count": 65,
   "metadata": {},
   "outputs": [],
   "source": [
    "# Simple function that makes all necessary changes to a list of base spirits\n",
    "def clean_base_spirits(spirit_list):\n",
    "    liqueurs = ['chocolate', 'banana', 'melon', 'coffee']\n",
    "    out_list = []\n",
    "    for original in spirit_list:\n",
    "        if not original:\n",
    "            continue\n",
    "        revised = (original.strip()\n",
    "                           .replace('liqueurs', 'liqueur')\n",
    "                           .replace('add vodka', 'vodka')\n",
    "                           .replace('knob creek', 'whiskey'))\n",
    "        if revised in liqueurs:\n",
    "            revised += ' liqueur'\n",
    "        out_list.append(revised)\n",
    "    return tuple(out_list)"
   ]
  },
  {
   "cell_type": "code",
   "execution_count": 66,
   "metadata": {},
   "outputs": [],
   "source": [
    "df = pd.DataFrame(drink_links)\n",
    "df.drop_duplicates(inplace=True)\n",
    "\n",
    "# Cleans up names and adds column for name words\n",
    "df['name'] = df['name'].str.replace('\\(.*\\)', '').str.strip()\n",
    "df['name_words'] = (df['name'].str.replace('[^a-z0-9 \\-]', '')\n",
    "                                          .str.split())\n",
    "\n",
    "# Adds some measures to check how close name is to url\n",
    "url_count = []\n",
    "url_percent = []\n",
    "for idx, row in df.iterrows():\n",
    "    matches = [word in row['url'] for word in row['name_words']]\n",
    "    url_count.append(sum(matches))\n",
    "    url_percent.append(url_count[-1] / len(matches))\n",
    "df['url_name_percent'] = url_percent\n",
    "df['url_name_count'] = url_count\n",
    "\n",
    "# Splits up base spirits into lists\n",
    "base_spirits = df['base_spirits'].str.replace('[\\(\\)]', '')\n",
    "base_spirits = base_spirits.str.split(',| and | or ')\n",
    "base_spirits = base_spirits.apply(clean_base_spirits)\n",
    "df['base_spirits'] = base_spirits\n",
    "\n",
    "# Remove specific recipes due to various issues\n",
    "drop_names = [\n",
    "    'corpse reviver',\n",
    "    'tornado cocktail']\n",
    "drop_urls = [\n",
    "    'https://www.verywellfamily.com/best-diaper-bags-4161109',\n",
    "    'https://www.thespruceeats.com/popular-brands-of-gin-to-try-4027227',\n",
    "    'https://www.thespruceeats.com/wonderful-winter-cocktails-4123837',\n",
    "    'https://www.thespruceeats.com/popular-brands-of-premium-vodka-759245',\n",
    "    'https://www.thespruceeats.com/hot-toddy-collection-759883',\n",
    "    'https://www.thespruceeats.com/christmas-cocktail-recipe-collection-759882',\n",
    "    'https://www.thespruceeats.com/fantastic-sangria-recipes-759875',\n",
    "    'https://www.thespruceeats.com/irish-whiskey-ginger-ale-beer-drinks-761457',\n",
    "    'https://www.thespruceeats.com/spring-cocktail-recipes-759873']\n",
    "df.drop(df[df['name'].isin(drop_names)].index, inplace=True)\n",
    "df.drop(df[df['url'].isin(drop_urls)].index, inplace=True)\n",
    "\n",
    "# Removes other duplicates by finding the names that worst match their urls\n",
    "dup_df = df[df.duplicated(subset='url', keep=False)]\n",
    "df = df[~df.duplicated(subset='url', keep=False)]\n",
    "dup_df = dup_df.sort_values(by=['url', 'url_name_percent', 'url_name_count'],\n",
    "                            ascending=False)\n",
    "keepers_df = dup_df.groupby('url', as_index=False).first()\n",
    "df = df.reset_index(drop=True).append(keepers_df, sort=False)\n",
    "\n",
    "df = df.sort_values(by='name').reset_index(drop=True)\n",
    "df.drop(['url_name_percent', 'url_name_count'], axis=1, inplace=True)"
   ]
  },
  {
   "cell_type": "markdown",
   "metadata": {},
   "source": [
    "### Get Recipes and Descriptions"
   ]
  },
  {
   "cell_type": "code",
   "execution_count": 67,
   "metadata": {},
   "outputs": [],
   "source": [
    "recipes_pk = '../data/se_recipes.pk'\n",
    "recipes = read_pickle(recipes_pk)\n",
    "\n",
    "# Scrape data only if pickle of links does not exist\n",
    "if not recipes:\n",
    "    recipes = []\n",
    "    for ind in df.index:\n",
    "        response = requests.get(df.loc[ind]['url'])\n",
    "        soup = BeautifulSoup(response.text, 'lxml')\n",
    "        recipe_dict = {}\n",
    "        \n",
    "        # Gets description\n",
    "        tag = soup.find('div', {'id':'article__header--project_1-0'})\n",
    "        description = []\n",
    "        if tag:\n",
    "            for x in tag.findAll('div', {'class':'comp mntl-sc-block mntl-sc-block-html'}):\n",
    "                description.append(x.text.strip())\n",
    "        if description:\n",
    "            recipe_dict['description'] = ' '.join(description)\n",
    "        else:\n",
    "            recipe_dict['description'] = None\n",
    "            \n",
    "        # Gets image\n",
    "        image = soup.find('img', {'class':'figure__image js-figure-image'})\n",
    "        if image:\n",
    "            recipe_dict['image'] = image.get('src')\n",
    "        else:\n",
    "            recipe_dict['image'] = None\n",
    "        \n",
    "        # Gets ingredients\n",
    "        tag = soup.find('section', {'id':'section--ingredients_1-0'})\n",
    "        ingredients = []\n",
    "        if tag:\n",
    "            for x in tag.findAll('li'):\n",
    "                ingredients.append(x.text.strip())\n",
    "        recipe_dict['ingredients'] = ingredients\n",
    "        \n",
    "        # Gets prep time\n",
    "        try:\n",
    "            recipe_dict['prep_time'] = (soup.find('span', {'id':'meta-text_1-0'})\n",
    "                                            .find('span', {'class':'meta-text__data'})\n",
    "                                            .text)\n",
    "        except:\n",
    "            recipe_dict['prep_time'] = None\n",
    "        \n",
    "        # Gets instructions\n",
    "        tag = soup.find('section', {'id':'section--instructions_1-0'})\n",
    "        instructions = []\n",
    "        if tag:\n",
    "            for x in tag.findAll('div', {'class':'comp mntl-sc-block mntl-sc-block-html'}):\n",
    "                instructions.append(x.text.strip())\n",
    "        if instructions:\n",
    "            recipe_dict['instructions'] = ' '.join(instructions)\n",
    "        else:\n",
    "            recipe_dict['instructions'] = None\n",
    "        \n",
    "        recipes.append(recipe_dict)\n",
    "        \n",
    "        # Pause every 20 sites\n",
    "        if ind % 20 == 0:\n",
    "            time.sleep(10)\n",
    "        \n",
    "    # Writes out pickle of recipes\n",
    "    var_to_pickle(recipes, recipes_pk)"
   ]
  },
  {
   "cell_type": "markdown",
   "metadata": {},
   "source": [
    "### Merge Dataframe"
   ]
  },
  {
   "cell_type": "code",
   "execution_count": 68,
   "metadata": {},
   "outputs": [],
   "source": [
    "df = df.merge(pd.DataFrame(recipes), left_index=True, right_index=True)"
   ]
  },
  {
   "cell_type": "code",
   "execution_count": 69,
   "metadata": {},
   "outputs": [],
   "source": [
    "# Remove any rows that have missing values\n",
    "df.dropna(inplace=True)\n",
    "df.reset_index(drop=True, inplace=True)"
   ]
  },
  {
   "cell_type": "markdown",
   "metadata": {},
   "source": [
    "### Add Description Lengths"
   ]
  },
  {
   "cell_type": "code",
   "execution_count": 70,
   "metadata": {},
   "outputs": [],
   "source": [
    "df['desc_length'] = df['description'].str.len()"
   ]
  },
  {
   "cell_type": "markdown",
   "metadata": {},
   "source": [
    "### Pre-process Descriptions"
   ]
  },
  {
   "cell_type": "code",
   "execution_count": 71,
   "metadata": {},
   "outputs": [],
   "source": [
    "import re\n",
    "import spacy\n",
    "from sklearn.feature_extraction.text import TfidfVectorizer\n",
    "\n",
    "nlp = spacy.load(\"en_core_web_sm\")"
   ]
  },
  {
   "cell_type": "code",
   "execution_count": 72,
   "metadata": {},
   "outputs": [],
   "source": [
    "def desc_prepro(desc):\n",
    "    pos_keep = ['ADJ', 'NOUN', 'PROPN']\n",
    "    doc = nlp(desc)\n",
    "    words = [token.lemma_ for token in doc if token.pos_ in pos_keep]\n",
    "    words = list(filter(lambda word: '-' not in word, words))\n",
    "    return ' '.join(words)"
   ]
  },
  {
   "cell_type": "code",
   "execution_count": 73,
   "metadata": {},
   "outputs": [],
   "source": [
    "df['proc_desc'] = df['description'].map(desc_prepro)"
   ]
  },
  {
   "cell_type": "markdown",
   "metadata": {},
   "source": [
    "### Stop Words"
   ]
  },
  {
   "cell_type": "code",
   "execution_count": 74,
   "metadata": {},
   "outputs": [],
   "source": [
    "from sklearn.feature_extraction import text\n",
    "stop_words = ['cocktail', 'drink', 'recipe', 'make', 'mix', 'flavor', 'good',\n",
    "              'ingredient', 'taste', 'perfect', 'little', 'bar', 'nice', 'blue',\n",
    "              'great', 'way', 'favorite', 'new', 'popular', 'delicious', 'green',\n",
    "              'party', 'fun', 'black', 'sure', 'time', 'glass', 'woo', 'year',\n",
    "              'st', 'shot', 'garnish', 'pink', 'bit', 'different', 'choice',]\n",
    "stop_words = text.ENGLISH_STOP_WORDS.union(stop_words)"
   ]
  },
  {
   "cell_type": "markdown",
   "metadata": {},
   "source": [
    "### Cocktail-Based Recommender"
   ]
  },
  {
   "cell_type": "code",
   "execution_count": 111,
   "metadata": {},
   "outputs": [],
   "source": [
    "from sklearn.metrics.pairwise import cosine_similarity\n",
    "from sklearn.metrics.pairwise import manhattan_distances\n",
    "from sklearn.metrics.pairwise import euclidean_distances"
   ]
  },
  {
   "cell_type": "code",
   "execution_count": 108,
   "metadata": {},
   "outputs": [],
   "source": [
    "tfv = TfidfVectorizer(stop_words=stop_words)\n",
    "tf_mtx = tfv.fit_transform(df['proc_desc'].values)"
   ]
  },
  {
   "cell_type": "code",
   "execution_count": 139,
   "metadata": {},
   "outputs": [],
   "source": [
    "dist_func = cosine_similarity\n",
    "dist_df = pd.DataFrame(dist_func(tf_mtx.todense()))"
   ]
  },
  {
   "cell_type": "code",
   "execution_count": 187,
   "metadata": {},
   "outputs": [],
   "source": [
    "def recommend_by_cocktail(cocktails, num_recos=5):\n",
    "    if type(cocktails) != list:\n",
    "        cocktails = [cocktails]\n",
    "    \n",
    "    # Calculate closest recipes by distance\n",
    "    dist_sums = dist_df.loc[cocktails].sum(axis=0)\n",
    "    dist_sums.sort_values(ascending=False, inplace=True)\n",
    "    ranked_idx = dist_sums[dist_sums.index.isin(cocktails) == False]\n",
    "    ranked_df = df.loc[ranked_idx.index.tolist()]\n",
    "    \n",
    "    return ranked_df.head(num_recos)"
   ]
  },
  {
   "cell_type": "code",
   "execution_count": 215,
   "metadata": {},
   "outputs": [],
   "source": [
    "sources = df.sample(2)"
   ]
  },
  {
   "cell_type": "code",
   "execution_count": 216,
   "metadata": {},
   "outputs": [
    {
     "data": {
      "text/plain": [
       "[['2 ounces XUXU Strawberry Liqueur',\n",
       "  '1 ounce Gran Centenario Reposado Tequila',\n",
       "  '1/2 ounce fresh lime juice',\n",
       "  '1/2 ounce simple syrup',\n",
       "  'Fanned strawberry for garnish',\n",
       "  '-----',\n",
       "  'For Rhubarb Soda:',\n",
       "  '6 cups chopped rhubarb stalks',\n",
       "  '1 1/2 cup sugar',\n",
       "  '1 cup waterClub soda'],\n",
       " ['1 1/2 ounces whiskey\\xa0(bourbon)',\n",
       "  '1 ounce lemon (juice of)',\n",
       "  '1/2 ounce simple syrup',\n",
       "  '2\\u200b ounces\\xa0\\u200bclub soda',\n",
       "  'Garnish:\\xa0\\u200b\\u200bmaraschino cherry',\n",
       "  'Garnish:\\xa0\\u200borange slice']]"
      ]
     },
     "execution_count": 216,
     "metadata": {},
     "output_type": "execute_result"
    }
   ],
   "source": [
    "sources['ingredients'].tolist()"
   ]
  },
  {
   "cell_type": "code",
   "execution_count": 217,
   "metadata": {},
   "outputs": [
    {
     "data": {
      "text/plain": [
       "[['1 1/2 ounces vodka',\n",
       "  '1 ounce lemon juice',\n",
       "  '1/2 ounce simple syrup',\n",
       "  '1 splash of Club soda',\n",
       "  'Garnish: orange slice',\n",
       "  'Garnish: maraschino cherry'],\n",
       " ['1 1/2 ounces tequila',\n",
       "  '1 ounce lemon juice',\n",
       "  '1/2 ounce agave nectar',\n",
       "  '2 oz.\\xa0club soda\\xa0(or enough to top the glass)',\n",
       "  'Garnish: Lemon, lime wedge'],\n",
       " ['For the Rhubarb Syrup:',\n",
       "  '1 1/2 cups rhubarb juice',\n",
       "  '1/2 cup sugar',\n",
       "  'For the Rhubarb Collins:',\n",
       "  \"2 1/2 ounces gin (Nolet's Silver Dry Gin)\",\n",
       "  '1 ounce rhubarb syrup',\n",
       "  '1 ounce\\xa0lime juice',\n",
       "  'Dash\\xa0rhubarb bitters\\xa0(Fee Brothers)',\n",
       "  '2 ounces club soda (to fill)',\n",
       "  '4 dashes cardamom bitters'],\n",
       " ['1 1/2 ounces gin',\n",
       "  '1 ounce lemon juice',\n",
       "  '1/2 ounce simple syrup',\n",
       "  '3 ounces club soda (or to fill)',\n",
       "  'Garnish: maraschino cherry',\n",
       "  'Garnish:\\xa0lemon or orange slice'],\n",
       " ['1 1/2 ounces\\xa0\\u200bwhiskey',\n",
       "  '1 1/2 ounces\\xa0\\u200blemon juice\\xa0(fresh)',\n",
       "  '3/4 ounce\\xa0\\u200bsimple syrup',\n",
       "  'Optional:\\xa0\\u200begg white',\n",
       "  'Garnish: \\u200b\\u200bmaraschino cherry\\xa0or lemon peel']]"
      ]
     },
     "execution_count": 217,
     "metadata": {},
     "output_type": "execute_result"
    }
   ],
   "source": [
    "recommend_by_cocktail(sources.index.tolist())['ingredients'].tolist()"
   ]
  },
  {
   "cell_type": "markdown",
   "metadata": {},
   "source": [
    "### SVD"
   ]
  },
  {
   "cell_type": "code",
   "execution_count": 97,
   "metadata": {},
   "outputs": [],
   "source": [
    "from scipy.linalg import svd"
   ]
  },
  {
   "cell_type": "code",
   "execution_count": 103,
   "metadata": {},
   "outputs": [],
   "source": [
    "C, Sigma, VT = svd(td_mtx.todense())"
   ]
  },
  {
   "cell_type": "code",
   "execution_count": 107,
   "metadata": {},
   "outputs": [
    {
     "data": {
      "text/html": [
       "<div>\n",
       "<style scoped>\n",
       "    .dataframe tbody tr th:only-of-type {\n",
       "        vertical-align: middle;\n",
       "    }\n",
       "\n",
       "    .dataframe tbody tr th {\n",
       "        vertical-align: top;\n",
       "    }\n",
       "\n",
       "    .dataframe thead th {\n",
       "        text-align: right;\n",
       "    }\n",
       "</style>\n",
       "<table border=\"1\" class=\"dataframe\">\n",
       "  <thead>\n",
       "    <tr style=\"text-align: right;\">\n",
       "      <th></th>\n",
       "      <th>0</th>\n",
       "      <th>1</th>\n",
       "      <th>2</th>\n",
       "      <th>3</th>\n",
       "      <th>4</th>\n",
       "      <th>5</th>\n",
       "      <th>6</th>\n",
       "      <th>7</th>\n",
       "      <th>8</th>\n",
       "      <th>9</th>\n",
       "      <th>...</th>\n",
       "      <th>3657</th>\n",
       "      <th>3658</th>\n",
       "      <th>3659</th>\n",
       "      <th>3660</th>\n",
       "      <th>3661</th>\n",
       "      <th>3662</th>\n",
       "      <th>3663</th>\n",
       "      <th>3664</th>\n",
       "      <th>3665</th>\n",
       "      <th>3666</th>\n",
       "    </tr>\n",
       "  </thead>\n",
       "  <tbody>\n",
       "    <tr>\n",
       "      <th>0</th>\n",
       "      <td>-0.000261</td>\n",
       "      <td>-0.000239</td>\n",
       "      <td>-0.003224</td>\n",
       "      <td>-0.000676</td>\n",
       "      <td>-0.000458</td>\n",
       "      <td>-0.000458</td>\n",
       "      <td>-0.000327</td>\n",
       "      <td>-0.000526</td>\n",
       "      <td>-0.003623</td>\n",
       "      <td>-0.001449</td>\n",
       "      <td>...</td>\n",
       "      <td>-0.003176</td>\n",
       "      <td>-0.000487</td>\n",
       "      <td>-0.000846</td>\n",
       "      <td>-0.000260</td>\n",
       "      <td>-0.000732</td>\n",
       "      <td>-0.003290</td>\n",
       "      <td>-0.001841</td>\n",
       "      <td>-0.004588</td>\n",
       "      <td>-0.003094</td>\n",
       "      <td>-0.000314</td>\n",
       "    </tr>\n",
       "    <tr>\n",
       "      <th>1</th>\n",
       "      <td>-0.000205</td>\n",
       "      <td>-0.000188</td>\n",
       "      <td>0.009479</td>\n",
       "      <td>-0.000535</td>\n",
       "      <td>0.000934</td>\n",
       "      <td>0.000934</td>\n",
       "      <td>-0.000062</td>\n",
       "      <td>0.001577</td>\n",
       "      <td>0.003762</td>\n",
       "      <td>0.002453</td>\n",
       "      <td>...</td>\n",
       "      <td>-0.000894</td>\n",
       "      <td>-0.000365</td>\n",
       "      <td>-0.001497</td>\n",
       "      <td>-0.000188</td>\n",
       "      <td>0.002017</td>\n",
       "      <td>-0.000358</td>\n",
       "      <td>-0.002326</td>\n",
       "      <td>-0.004897</td>\n",
       "      <td>-0.003421</td>\n",
       "      <td>-0.000290</td>\n",
       "    </tr>\n",
       "    <tr>\n",
       "      <th>2</th>\n",
       "      <td>0.000334</td>\n",
       "      <td>0.000514</td>\n",
       "      <td>0.005506</td>\n",
       "      <td>0.001212</td>\n",
       "      <td>0.001263</td>\n",
       "      <td>0.001263</td>\n",
       "      <td>0.000176</td>\n",
       "      <td>0.000709</td>\n",
       "      <td>0.002270</td>\n",
       "      <td>0.001037</td>\n",
       "      <td>...</td>\n",
       "      <td>-0.005704</td>\n",
       "      <td>0.000836</td>\n",
       "      <td>0.001870</td>\n",
       "      <td>0.000158</td>\n",
       "      <td>0.000332</td>\n",
       "      <td>-0.005250</td>\n",
       "      <td>-0.000137</td>\n",
       "      <td>-0.000870</td>\n",
       "      <td>0.002392</td>\n",
       "      <td>0.000584</td>\n",
       "    </tr>\n",
       "  </tbody>\n",
       "</table>\n",
       "<p>3 rows × 3667 columns</p>\n",
       "</div>"
      ],
      "text/plain": [
       "       0         1         2         3         4         5         6     \\\n",
       "0 -0.000261 -0.000239 -0.003224 -0.000676 -0.000458 -0.000458 -0.000327   \n",
       "1 -0.000205 -0.000188  0.009479 -0.000535  0.000934  0.000934 -0.000062   \n",
       "2  0.000334  0.000514  0.005506  0.001212  0.001263  0.001263  0.000176   \n",
       "\n",
       "       7         8         9     ...      3657      3658      3659      3660  \\\n",
       "0 -0.000526 -0.003623 -0.001449  ... -0.003176 -0.000487 -0.000846 -0.000260   \n",
       "1  0.001577  0.003762  0.002453  ... -0.000894 -0.000365 -0.001497 -0.000188   \n",
       "2  0.000709  0.002270  0.001037  ... -0.005704  0.000836  0.001870  0.000158   \n",
       "\n",
       "       3661      3662      3663      3664      3665      3666  \n",
       "0 -0.000732 -0.003290 -0.001841 -0.004588 -0.003094 -0.000314  \n",
       "1  0.002017 -0.000358 -0.002326 -0.004897 -0.003421 -0.000290  \n",
       "2  0.000332 -0.005250 -0.000137 -0.000870  0.002392  0.000584  \n",
       "\n",
       "[3 rows x 3667 columns]"
      ]
     },
     "execution_count": 107,
     "metadata": {},
     "output_type": "execute_result"
    }
   ],
   "source": [
    "VT = VT[:3,:]\n",
    "pd.DataFrame(VT)"
   ]
  },
  {
   "cell_type": "markdown",
   "metadata": {},
   "source": [
    "### Topic Modeling"
   ]
  },
  {
   "cell_type": "code",
   "execution_count": 87,
   "metadata": {},
   "outputs": [],
   "source": [
    "from sklearn.feature_extraction.text import CountVectorizer"
   ]
  },
  {
   "cell_type": "code",
   "execution_count": 96,
   "metadata": {},
   "outputs": [],
   "source": [
    "cv = CountVectorizer(stop_words=stop_words)\n",
    "td_mtx = cv.fit_transform(df['proc_desc'].values)"
   ]
  },
  {
   "cell_type": "code",
   "execution_count": null,
   "metadata": {},
   "outputs": [],
   "source": [
    "from gensim import corpora, models, similarities, matutils"
   ]
  },
  {
   "cell_type": "code",
   "execution_count": 78,
   "metadata": {},
   "outputs": [],
   "source": [
    "corpus = matutils.Sparse2Corpus(td_mtx.transpose())\n",
    "id2word = dict((v, k) for k, v in cv.vocabulary_.items())\n",
    "lda = models.LdaModel(corpus=corpus, num_topics=50, id2word=id2word, passes=5)"
   ]
  },
  {
   "cell_type": "code",
   "execution_count": 79,
   "metadata": {},
   "outputs": [
    {
     "data": {
      "text/plain": [
       "[(2,\n",
       "  '0.024*\"gin\" + 0.022*\"margarita\" + 0.020*\"ginger\" + 0.019*\"easy\" + 0.015*\"spicy\" + 0.013*\"lime\" + 0.012*\"refreshing\" + 0.011*\"orange\" + 0.011*\"sweet\" + 0.011*\"spice\"'),\n",
       " (4,\n",
       "  '0.029*\"gin\" + 0.025*\"cucumber\" + 0.020*\"mint\" + 0.016*\"hot\" + 0.015*\"wasabi\" + 0.013*\"japanese\" + 0.013*\"fresh\" + 0.012*\"spicy\" + 0.012*\"vodka\" + 0.012*\"sauce\"'),\n",
       " (28,\n",
       "  '0.023*\"sour\" + 0.017*\"punch\" + 0.017*\"brandy\" + 0.016*\"vodka\" + 0.016*\"fruity\" + 0.014*\"easy\" + 0.014*\"margarita\" + 0.012*\"orange\" + 0.012*\"peach\" + 0.012*\"sugar\"'),\n",
       " (20,\n",
       "  '0.026*\"whiskey\" + 0.019*\"simple\" + 0.018*\"sweet\" + 0.017*\"tall\" + 0.016*\"liqueur\" + 0.015*\"bourbon\" + 0.014*\"ginger\" + 0.013*\"coffee\" + 0.012*\"ale\" + 0.011*\"easy\"'),\n",
       " (10,\n",
       "  '0.020*\"white\" + 0.019*\"gin\" + 0.018*\"chocolate\" + 0.015*\"liqueur\" + 0.014*\"rum\" + 0.014*\"alabama\" + 0.011*\"sake\" + 0.010*\"simple\" + 0.010*\"orange\" + 0.009*\"sweet\"'),\n",
       " (22,\n",
       "  '0.109*\"tea\" + 0.049*\"long\" + 0.038*\"island\" + 0.031*\"iced\" + 0.020*\"vanilla\" + 0.016*\"liqueur\" + 0.013*\"liquor\" + 0.011*\"spirit\" + 0.010*\"sweet\" + 0.010*\"lemon\"'),\n",
       " (21,\n",
       "  '0.034*\"whiskey\" + 0.022*\"sour\" + 0.015*\"fruit\" + 0.014*\"rock\" + 0.012*\"rye\" + 0.012*\"classic\" + 0.011*\"tequila\" + 0.010*\"apple\" + 0.010*\"coffee\" + 0.010*\"cream\"'),\n",
       " (34,\n",
       "  '0.022*\"classic\" + 0.016*\"easy\" + 0.014*\"wine\" + 0.013*\"sweet\" + 0.012*\"gin\" + 0.012*\"brandy\" + 0.010*\"whiskey\" + 0.010*\"beer\" + 0.009*\"martini\" + 0.009*\"combination\"'),\n",
       " (35,\n",
       "  '0.028*\"strawberry\" + 0.025*\"vodka\" + 0.022*\"liqueur\" + 0.020*\"sweet\" + 0.018*\"bourbon\" + 0.015*\"pear\" + 0.015*\"honey\" + 0.014*\"lemon\" + 0.013*\"whiskey\" + 0.012*\"delightful\"'),\n",
       " (5,\n",
       "  '0.053*\"rum\" + 0.031*\"easy\" + 0.022*\"dark\" + 0.017*\"cola\" + 0.017*\"coke\" + 0.015*\"light\" + 0.013*\"mixed\" + 0.012*\"wine\" + 0.011*\"juice\" + 0.010*\"simple\"'),\n",
       " (23,\n",
       "  '0.030*\"liqueur\" + 0.027*\"vodka\" + 0.020*\"ginger\" + 0.018*\"easy\" + 0.017*\"tequila\" + 0.017*\"purple\" + 0.013*\"quick\" + 0.012*\"cream\" + 0.011*\"banana\" + 0.011*\"russian\"'),\n",
       " (45,\n",
       "  '0.043*\"whiskey\" + 0.027*\"old\" + 0.021*\"fashioned\" + 0.021*\"chocolate\" + 0.017*\"rum\" + 0.016*\"simple\" + 0.016*\"bourbon\" + 0.015*\"hot\" + 0.015*\"orange\" + 0.013*\"classic\"'),\n",
       " (39,\n",
       "  '0.020*\"gin\" + 0.020*\"punch\" + 0.013*\"martini\" + 0.013*\"sangria\" + 0.012*\"simple\" + 0.011*\"vodka\" + 0.010*\"liqueur\" + 0.010*\"red\" + 0.010*\"mango\" + 0.010*\"syrup\"'),\n",
       " (17,\n",
       "  '0.021*\"vodka\" + 0.016*\"juice\" + 0.015*\"caesar\" + 0.014*\"syrup\" + 0.013*\"vermouth\" + 0.013*\"sweet\" + 0.011*\"bloody\" + 0.010*\"lemonade\" + 0.010*\"campari\" + 0.009*\"simple\"'),\n",
       " (9,\n",
       "  '0.035*\"vodka\" + 0.028*\"sweet\" + 0.025*\"martini\" + 0.019*\"easy\" + 0.018*\"gin\" + 0.015*\"syrup\" + 0.010*\"dry\" + 0.009*\"liqueur\" + 0.009*\"vermouth\" + 0.008*\"soda\"'),\n",
       " (38,\n",
       "  '0.028*\"tequila\" + 0.021*\"gin\" + 0.019*\"liqueur\" + 0.012*\"margarita\" + 0.012*\"juice\" + 0.011*\"cream\" + 0.011*\"martini\" + 0.011*\"classic\" + 0.010*\"gold\" + 0.010*\"pear\"'),\n",
       " (6,\n",
       "  '0.030*\"bloody\" + 0.024*\"tequila\" + 0.024*\"mary\" + 0.022*\"easy\" + 0.020*\"tomato\" + 0.017*\"vodka\" + 0.017*\"simple\" + 0.016*\"strawberry\" + 0.014*\"beer\" + 0.013*\"juice\"'),\n",
       " (26,\n",
       "  '0.025*\"whiskey\" + 0.021*\"cinnamon\" + 0.019*\"easy\" + 0.016*\"scotch\" + 0.016*\"gin\" + 0.014*\"cherry\" + 0.013*\"simple\" + 0.012*\"day\" + 0.010*\"liqueur\" + 0.009*\"tonic\"'),\n",
       " (15,\n",
       "  '0.032*\"tea\" + 0.023*\"vodka\" + 0.021*\"martini\" + 0.019*\"cosmopolitan\" + 0.016*\"old\" + 0.015*\"classic\" + 0.011*\"juice\" + 0.011*\"beautiful\" + 0.011*\"manhattan\" + 0.010*\"metropolitan\"'),\n",
       " (8,\n",
       "  '0.022*\"margarita\" + 0.021*\"juice\" + 0.017*\"liqueur\" + 0.015*\"easy\" + 0.014*\"lime\" + 0.014*\"simple\" + 0.014*\"vodka\" + 0.012*\"fresh\" + 0.011*\"sweet\" + 0.009*\"sugar\"')]"
      ]
     },
     "execution_count": 79,
     "metadata": {},
     "output_type": "execute_result"
    }
   ],
   "source": [
    "lda.print_topics()"
   ]
  },
  {
   "cell_type": "code",
   "execution_count": 80,
   "metadata": {},
   "outputs": [],
   "source": [
    "lda_corpus = lda[corpus]\n",
    "lda_docs = [doc for doc in lda_corpus]"
   ]
  },
  {
   "cell_type": "code",
   "execution_count": 81,
   "metadata": {},
   "outputs": [],
   "source": [
    "topics = [sorted(doc, key=lambda x: x[1])[-1][0] for doc in lda_docs]\n",
    "df['topic'] = topics"
   ]
  },
  {
   "cell_type": "code",
   "execution_count": 84,
   "metadata": {},
   "outputs": [
    {
     "data": {
      "text/plain": [
       "16    37\n",
       "41    34\n",
       "8     33\n",
       "39    30\n",
       "48    30\n",
       "30    25\n",
       "0     21\n",
       "37    21\n",
       "14    20\n",
       "9     20\n",
       "45    20\n",
       "21    19\n",
       "28    19\n",
       "43    18\n",
       "33    18\n",
       "42    17\n",
       "34    17\n",
       "38    17\n",
       "29    17\n",
       "19    15\n",
       "17    15\n",
       "6     15\n",
       "13    15\n",
       "2     14\n",
       "25    14\n",
       "32    14\n",
       "1     13\n",
       "20    13\n",
       "7     13\n",
       "24    13\n",
       "23    13\n",
       "44    13\n",
       "49    12\n",
       "26    12\n",
       "46    11\n",
       "27    11\n",
       "31    11\n",
       "12    11\n",
       "4     10\n",
       "10    10\n",
       "40     9\n",
       "5      9\n",
       "35     9\n",
       "18     9\n",
       "11     9\n",
       "3      8\n",
       "47     8\n",
       "22     7\n",
       "15     6\n",
       "36     4\n",
       "Name: topic, dtype: int64"
      ]
     },
     "execution_count": 84,
     "metadata": {},
     "output_type": "execute_result"
    }
   ],
   "source": [
    "df['topic'].value_counts()"
   ]
  },
  {
   "cell_type": "code",
   "execution_count": 85,
   "metadata": {},
   "outputs": [
    {
     "data": {
      "text/plain": [
       "array(['blue blazer cocktail advanced bartender rolling flaming whiskey mug story drink jerry thomas 1800 etching drink famous image professor that today blue blazer drink pro anyone flaming drink english christmas punch dr. pepper goblet fire sure safety tip',\n",
       "       'boulevardier sophisticated classic cocktail that whiskey negroni boulevardier cocktail negroni common cocktail world exact date creation drink little sketchy true negroni drink other base spirit sweet vermouth campari negroni gin boulevardier opt whiskey bourbon vermouth campari natural choice aperitif subtle combination flavor that pleasant host option negroni boulevardier dinner party taste whiskey guest',\n",
       "       'joy irish whiskey cocktail decade tradition few drink sophisticated design recipe massey cocktail exceptional example art mixology one that connoisseur fine drink sure massey cocktail creation portland bartender jacob grier tribute irish grandmother stunning mix top shelf spirit irish whiskey gin sweet vermouth chartreuse campari unusual mixture bold ingredient harmony flavor elegant taste sensation anything mix sure next dinner party',\n",
       "       'rob roy scotch manhattan choice whiskey that other manhattans nice way good scotch manhattan recipe rob roy favorite scotch sweet vermouth basic easy popular cocktail good bartender blended single malt scotch matter preference blended whiskey popular choice way simplicity drink whiskey sure wise choice cocktail premium scotch waste'],\n",
       "      dtype=object)"
      ]
     },
     "execution_count": 85,
     "metadata": {},
     "output_type": "execute_result"
    }
   ],
   "source": [
    "df[df['topic'] == 36]['proc_desc'].values"
   ]
  },
  {
   "cell_type": "markdown",
   "metadata": {},
   "source": [
    "### Train KMeans Model"
   ]
  },
  {
   "cell_type": "code",
   "execution_count": 60,
   "metadata": {},
   "outputs": [],
   "source": [
    "import matplotlib.pyplot as plt\n",
    "from sklearn.cluster import KMeans\n",
    "from sklearn.metrics import silhouette_score\n",
    "\n",
    "%matplotlib inline"
   ]
  },
  {
   "cell_type": "code",
   "execution_count": 61,
   "metadata": {},
   "outputs": [],
   "source": [
    "tfv = TfidfVectorizer(stop_words='english')\n",
    "descriptions = tfv.fit_transform(df['proc_desc'].values)"
   ]
  },
  {
   "cell_type": "code",
   "execution_count": 62,
   "metadata": {},
   "outputs": [
    {
     "ename": "KeyboardInterrupt",
     "evalue": "",
     "output_type": "error",
     "traceback": [
      "\u001b[0;31m---------------------------------------------------------------------------\u001b[0m",
      "\u001b[0;31mKeyboardInterrupt\u001b[0m                         Traceback (most recent call last)",
      "\u001b[0;32m<ipython-input-62-6c81ed74dfda>\u001b[0m in \u001b[0;36m<module>\u001b[0;34m\u001b[0m\n\u001b[1;32m      4\u001b[0m \u001b[0;32mfor\u001b[0m \u001b[0mk\u001b[0m \u001b[0;32min\u001b[0m \u001b[0mk_clusters\u001b[0m\u001b[0;34m:\u001b[0m\u001b[0;34m\u001b[0m\u001b[0;34m\u001b[0m\u001b[0m\n\u001b[1;32m      5\u001b[0m     \u001b[0mkm\u001b[0m \u001b[0;34m=\u001b[0m \u001b[0mKMeans\u001b[0m\u001b[0;34m(\u001b[0m\u001b[0mn_clusters\u001b[0m\u001b[0;34m=\u001b[0m\u001b[0mk\u001b[0m\u001b[0;34m)\u001b[0m\u001b[0;34m\u001b[0m\u001b[0;34m\u001b[0m\u001b[0m\n\u001b[0;32m----> 6\u001b[0;31m     \u001b[0mkm\u001b[0m\u001b[0;34m.\u001b[0m\u001b[0mfit\u001b[0m\u001b[0;34m(\u001b[0m\u001b[0mdescriptions\u001b[0m\u001b[0;34m)\u001b[0m\u001b[0;34m\u001b[0m\u001b[0;34m\u001b[0m\u001b[0m\n\u001b[0m\u001b[1;32m      7\u001b[0m     \u001b[0minertias\u001b[0m\u001b[0;34m.\u001b[0m\u001b[0mappend\u001b[0m\u001b[0;34m(\u001b[0m\u001b[0mkm\u001b[0m\u001b[0;34m.\u001b[0m\u001b[0minertia_\u001b[0m\u001b[0;34m)\u001b[0m\u001b[0;34m\u001b[0m\u001b[0;34m\u001b[0m\u001b[0m\n\u001b[1;32m      8\u001b[0m     \u001b[0msil_scores\u001b[0m\u001b[0;34m.\u001b[0m\u001b[0mappend\u001b[0m\u001b[0;34m(\u001b[0m\u001b[0msilhouette_score\u001b[0m\u001b[0;34m(\u001b[0m\u001b[0mdescriptions\u001b[0m\u001b[0;34m,\u001b[0m \u001b[0mkm\u001b[0m\u001b[0;34m.\u001b[0m\u001b[0mlabels_\u001b[0m\u001b[0;34m,\u001b[0m \u001b[0mmetric\u001b[0m\u001b[0;34m=\u001b[0m\u001b[0;34m'euclidean'\u001b[0m\u001b[0;34m)\u001b[0m\u001b[0;34m)\u001b[0m\u001b[0;34m\u001b[0m\u001b[0;34m\u001b[0m\u001b[0m\n",
      "\u001b[0;32m/anaconda3/lib/python3.7/site-packages/sklearn/cluster/k_means_.py\u001b[0m in \u001b[0;36mfit\u001b[0;34m(self, X, y, sample_weight)\u001b[0m\n\u001b[1;32m    969\u001b[0m                 \u001b[0mtol\u001b[0m\u001b[0;34m=\u001b[0m\u001b[0mself\u001b[0m\u001b[0;34m.\u001b[0m\u001b[0mtol\u001b[0m\u001b[0;34m,\u001b[0m \u001b[0mrandom_state\u001b[0m\u001b[0;34m=\u001b[0m\u001b[0mrandom_state\u001b[0m\u001b[0;34m,\u001b[0m \u001b[0mcopy_x\u001b[0m\u001b[0;34m=\u001b[0m\u001b[0mself\u001b[0m\u001b[0;34m.\u001b[0m\u001b[0mcopy_x\u001b[0m\u001b[0;34m,\u001b[0m\u001b[0;34m\u001b[0m\u001b[0;34m\u001b[0m\u001b[0m\n\u001b[1;32m    970\u001b[0m                 \u001b[0mn_jobs\u001b[0m\u001b[0;34m=\u001b[0m\u001b[0mself\u001b[0m\u001b[0;34m.\u001b[0m\u001b[0mn_jobs\u001b[0m\u001b[0;34m,\u001b[0m \u001b[0malgorithm\u001b[0m\u001b[0;34m=\u001b[0m\u001b[0mself\u001b[0m\u001b[0;34m.\u001b[0m\u001b[0malgorithm\u001b[0m\u001b[0;34m,\u001b[0m\u001b[0;34m\u001b[0m\u001b[0;34m\u001b[0m\u001b[0m\n\u001b[0;32m--> 971\u001b[0;31m                 return_n_iter=True)\n\u001b[0m\u001b[1;32m    972\u001b[0m         \u001b[0;32mreturn\u001b[0m \u001b[0mself\u001b[0m\u001b[0;34m\u001b[0m\u001b[0;34m\u001b[0m\u001b[0m\n\u001b[1;32m    973\u001b[0m \u001b[0;34m\u001b[0m\u001b[0m\n",
      "\u001b[0;32m/anaconda3/lib/python3.7/site-packages/sklearn/cluster/k_means_.py\u001b[0m in \u001b[0;36mk_means\u001b[0;34m(X, n_clusters, sample_weight, init, precompute_distances, n_init, max_iter, verbose, tol, random_state, copy_x, n_jobs, algorithm, return_n_iter)\u001b[0m\n\u001b[1;32m    378\u001b[0m                 \u001b[0mverbose\u001b[0m\u001b[0;34m=\u001b[0m\u001b[0mverbose\u001b[0m\u001b[0;34m,\u001b[0m \u001b[0mprecompute_distances\u001b[0m\u001b[0;34m=\u001b[0m\u001b[0mprecompute_distances\u001b[0m\u001b[0;34m,\u001b[0m\u001b[0;34m\u001b[0m\u001b[0;34m\u001b[0m\u001b[0m\n\u001b[1;32m    379\u001b[0m                 \u001b[0mtol\u001b[0m\u001b[0;34m=\u001b[0m\u001b[0mtol\u001b[0m\u001b[0;34m,\u001b[0m \u001b[0mx_squared_norms\u001b[0m\u001b[0;34m=\u001b[0m\u001b[0mx_squared_norms\u001b[0m\u001b[0;34m,\u001b[0m\u001b[0;34m\u001b[0m\u001b[0;34m\u001b[0m\u001b[0m\n\u001b[0;32m--> 380\u001b[0;31m                 random_state=random_state)\n\u001b[0m\u001b[1;32m    381\u001b[0m             \u001b[0;31m# determine if these results are the best so far\u001b[0m\u001b[0;34m\u001b[0m\u001b[0;34m\u001b[0m\u001b[0;34m\u001b[0m\u001b[0m\n\u001b[1;32m    382\u001b[0m             \u001b[0;32mif\u001b[0m \u001b[0mbest_inertia\u001b[0m \u001b[0;32mis\u001b[0m \u001b[0;32mNone\u001b[0m \u001b[0;32mor\u001b[0m \u001b[0minertia\u001b[0m \u001b[0;34m<\u001b[0m \u001b[0mbest_inertia\u001b[0m\u001b[0;34m:\u001b[0m\u001b[0;34m\u001b[0m\u001b[0;34m\u001b[0m\u001b[0m\n",
      "\u001b[0;32m/anaconda3/lib/python3.7/site-packages/sklearn/cluster/k_means_.py\u001b[0m in \u001b[0;36m_kmeans_single_lloyd\u001b[0;34m(X, sample_weight, n_clusters, max_iter, init, verbose, x_squared_norms, random_state, tol, precompute_distances)\u001b[0m\n\u001b[1;32m    549\u001b[0m         \u001b[0;32mif\u001b[0m \u001b[0msp\u001b[0m\u001b[0;34m.\u001b[0m\u001b[0missparse\u001b[0m\u001b[0;34m(\u001b[0m\u001b[0mX\u001b[0m\u001b[0;34m)\u001b[0m\u001b[0;34m:\u001b[0m\u001b[0;34m\u001b[0m\u001b[0;34m\u001b[0m\u001b[0m\n\u001b[1;32m    550\u001b[0m             centers = _k_means._centers_sparse(X, sample_weight, labels,\n\u001b[0;32m--> 551\u001b[0;31m                                                n_clusters, distances)\n\u001b[0m\u001b[1;32m    552\u001b[0m         \u001b[0;32melse\u001b[0m\u001b[0;34m:\u001b[0m\u001b[0;34m\u001b[0m\u001b[0;34m\u001b[0m\u001b[0m\n\u001b[1;32m    553\u001b[0m             centers = _k_means._centers_dense(X, sample_weight, labels,\n",
      "\u001b[0;31mKeyboardInterrupt\u001b[0m: "
     ]
    }
   ],
   "source": [
    "inertias = []\n",
    "sil_scores = []\n",
    "k_clusters = range(2, 30)\n",
    "for k in k_clusters:\n",
    "    km = KMeans(n_clusters=k)\n",
    "    km.fit(descriptions)\n",
    "    inertias.append(km.inertia_)\n",
    "    sil_scores.append(silhouette_score(descriptions, km.labels_, metric='euclidean'))"
   ]
  },
  {
   "cell_type": "code",
   "execution_count": null,
   "metadata": {},
   "outputs": [],
   "source": [
    "fig, (ax1, ax2) = plt.subplots(1,2, figsize=(15,5), sharex=True)\n",
    "ax1.plot(k_clusters, sil_scores)\n",
    "ax1.set_xlabel('number of clusters')\n",
    "ax1.set_ylabel('silhouette coefficient')\n",
    "\n",
    "# plot here on ax2\n",
    "ax2.plot(k_clusters, inertias)\n",
    "ax2.set_xlabel('number of clusters')\n",
    "ax2.set_ylabel('SSE');"
   ]
  },
  {
   "cell_type": "code",
   "execution_count": null,
   "metadata": {},
   "outputs": [],
   "source": [
    "km = KMeans(n_clusters=15)\n",
    "km.fit(descriptions)\n",
    "df['cluster'] = km.labels_"
   ]
  },
  {
   "cell_type": "markdown",
   "metadata": {},
   "source": [
    "### Examine Results"
   ]
  },
  {
   "cell_type": "code",
   "execution_count": null,
   "metadata": {},
   "outputs": [],
   "source": [
    "df['cluster'].value_counts()"
   ]
  },
  {
   "cell_type": "code",
   "execution_count": null,
   "metadata": {},
   "outputs": [],
   "source": [
    "for c in sorted(df['cluster'].unique()):\n",
    "    print(f'Cluster {c}:')\n",
    "    for x in df[df['cluster'] == c].sample(10)[['name', 'base_spirits']].values:\n",
    "        print(x[0].ljust(30)[:30], '\\t', ', '.join(x[1])[:30])\n",
    "    print('')"
   ]
  },
  {
   "cell_type": "code",
   "execution_count": null,
   "metadata": {},
   "outputs": [],
   "source": []
  }
 ],
 "metadata": {
  "kernelspec": {
   "display_name": "Python 3",
   "language": "python",
   "name": "python3"
  },
  "language_info": {
   "codemirror_mode": {
    "name": "ipython",
    "version": 3
   },
   "file_extension": ".py",
   "mimetype": "text/x-python",
   "name": "python",
   "nbconvert_exporter": "python",
   "pygments_lexer": "ipython3",
   "version": "3.7.3"
  }
 },
 "nbformat": 4,
 "nbformat_minor": 2
}
