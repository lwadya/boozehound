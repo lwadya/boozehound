{
 "cells": [
  {
   "cell_type": "markdown",
   "metadata": {},
   "source": [
    "# Scrape Spruce Eats"
   ]
  },
  {
   "cell_type": "markdown",
   "metadata": {},
   "source": [
    "### Imports and Functions"
   ]
  },
  {
   "cell_type": "code",
   "execution_count": 1,
   "metadata": {},
   "outputs": [],
   "source": [
    "import pandas as pd\n",
    "import numpy as np\n",
    "import requests\n",
    "import unicodedata\n",
    "import re\n",
    "import time\n",
    "from bs4 import BeautifulSoup\n",
    "\n",
    "from code.lw_pickle import var_to_pickle, read_pickle"
   ]
  },
  {
   "cell_type": "markdown",
   "metadata": {},
   "source": [
    "### Get List of Cocktail Links"
   ]
  },
  {
   "cell_type": "code",
   "execution_count": 2,
   "metadata": {},
   "outputs": [],
   "source": [
    "links_pk = '../data/se_drink_links.pk'\n",
    "drink_links = read_pickle(links_pk)\n",
    "\n",
    "# Scrape data only if pickle of links does not exist\n",
    "if not drink_links:\n",
    "    drink_links = []\n",
    "    url = 'https://www.thespruceeats.com/a-to-z-cocktail-recipes-3962886'\n",
    "    response = requests.get(url)\n",
    "    soup = BeautifulSoup(response.text, 'lxml')\n",
    "    \n",
    "    # Gets list of all list items containing a beverage\n",
    "    list_items = soup.findAll('li', {'class':'', 'id':''})\n",
    "    for item in list_items:\n",
    "        \n",
    "        # Gets recipe url and skips item if there isn't one\n",
    "        a_tag = item.a\n",
    "        if not a_tag:\n",
    "            continue\n",
    "        url = a_tag.get('href').strip()\n",
    "        \n",
    "        # Gets base spirits and skips item if there aren't any\n",
    "        base_spirits = item.text.replace(a_tag.text, '').lower().strip()\n",
    "        if not base_spirits:\n",
    "            continue\n",
    "            \n",
    "        # Assigns name, base spirit, and recipe link to dictionary\n",
    "        name = a_tag.text.lower().strip()\n",
    "        drink_links.append({\n",
    "            'name':name,\n",
    "            'base_spirits':base_spirits,\n",
    "            'url':url\n",
    "        })\n",
    "        \n",
    "    # Writes out pickle of links\n",
    "    var_to_pickle(drink_links, links_pk)"
   ]
  },
  {
   "cell_type": "markdown",
   "metadata": {},
   "source": [
    "### Create DataFrame and Clean Data"
   ]
  },
  {
   "cell_type": "code",
   "execution_count": 3,
   "metadata": {},
   "outputs": [],
   "source": [
    "# Simple function that makes all necessary changes to a list of base spirits\n",
    "def clean_base_spirits(spirit_list):\n",
    "    liqueurs = ['chocolate', 'banana', 'melon', 'coffee']\n",
    "    out_list = []\n",
    "    for original in spirit_list:\n",
    "        if not original:\n",
    "            continue\n",
    "        revised = (original.strip()\n",
    "                           .replace('liqueurs', 'liqueur')\n",
    "                           .replace('add vodka', 'vodka')\n",
    "                           .replace('knob creek', 'whiskey'))\n",
    "        if revised in liqueurs:\n",
    "            revised += ' liqueur'\n",
    "        out_list.append(revised)\n",
    "    return tuple(out_list)"
   ]
  },
  {
   "cell_type": "code",
   "execution_count": 4,
   "metadata": {},
   "outputs": [],
   "source": [
    "df = pd.DataFrame(drink_links)\n",
    "df.drop_duplicates(inplace=True)\n",
    "\n",
    "# Cleans up names and adds column for name words\n",
    "df['name'] = df['name'].str.replace('\\(.*\\)', '').str.strip()\n",
    "df['name_words'] = (df['name'].str.replace('[^a-z0-9 \\-]', '')\n",
    "                                          .str.split())\n",
    "\n",
    "# Adds some measures to check how close name is to url\n",
    "url_count = []\n",
    "url_percent = []\n",
    "for idx, row in df.iterrows():\n",
    "    matches = [word in row['url'] for word in row['name_words']]\n",
    "    url_count.append(sum(matches))\n",
    "    url_percent.append(url_count[-1] / len(matches))\n",
    "df['url_name_percent'] = url_percent\n",
    "df['url_name_count'] = url_count\n",
    "\n",
    "# Splits up base spirits into lists\n",
    "base_spirits = df['base_spirits'].str.replace('[\\(\\)]', '')\n",
    "base_spirits = base_spirits.str.split(',| and | or ')\n",
    "base_spirits = base_spirits.apply(clean_base_spirits)\n",
    "df['base_spirits'] = base_spirits\n",
    "\n",
    "# Remove specific recipes due to various issues\n",
    "drop_names = [\n",
    "    'corpse reviver',\n",
    "    'tornado cocktail']\n",
    "drop_urls = [\n",
    "    'https://www.verywellfamily.com/best-diaper-bags-4161109',\n",
    "    'https://www.thespruceeats.com/popular-brands-of-gin-to-try-4027227',\n",
    "    'https://www.thespruceeats.com/wonderful-winter-cocktails-4123837',\n",
    "    'https://www.thespruceeats.com/popular-brands-of-premium-vodka-759245',\n",
    "    'https://www.thespruceeats.com/hot-toddy-collection-759883',\n",
    "    'https://www.thespruceeats.com/christmas-cocktail-recipe-collection-759882',\n",
    "    'https://www.thespruceeats.com/fantastic-sangria-recipes-759875',\n",
    "    'https://www.thespruceeats.com/irish-whiskey-ginger-ale-beer-drinks-761457',\n",
    "    'https://www.thespruceeats.com/spring-cocktail-recipes-759873']\n",
    "df.drop(df[df['name'].isin(drop_names)].index, inplace=True)\n",
    "df.drop(df[df['url'].isin(drop_urls)].index, inplace=True)\n",
    "\n",
    "# Removes other duplicates by finding the names that worst match their urls\n",
    "dup_df = df[df.duplicated(subset='url', keep=False)]\n",
    "df = df[~df.duplicated(subset='url', keep=False)]\n",
    "dup_df = dup_df.sort_values(by=['url', 'url_name_percent', 'url_name_count'],\n",
    "                            ascending=False)\n",
    "keepers_df = dup_df.groupby('url', as_index=False).first()\n",
    "df = df.reset_index(drop=True).append(keepers_df, sort=False)\n",
    "\n",
    "df = df.sort_values(by='name').reset_index(drop=True)\n",
    "df.drop(['url_name_percent', 'url_name_count'], axis=1, inplace=True)"
   ]
  },
  {
   "cell_type": "markdown",
   "metadata": {},
   "source": [
    "### Get Recipes and Descriptions"
   ]
  },
  {
   "cell_type": "code",
   "execution_count": 5,
   "metadata": {},
   "outputs": [],
   "source": [
    "recipes_pk = '../data/se_recipes.pk'\n",
    "recipes = read_pickle(recipes_pk)\n",
    "\n",
    "# Scrape data only if pickle of links does not exist\n",
    "if not recipes:\n",
    "    recipes = []\n",
    "    for ind in df.index:\n",
    "        response = requests.get(df.loc[ind]['url'])\n",
    "        soup = BeautifulSoup(response.text, 'lxml')\n",
    "        recipe_dict = {}\n",
    "        \n",
    "        # Gets description\n",
    "        tag = soup.find('div', {'id':'article__header--project_1-0'})\n",
    "        description = []\n",
    "        if tag:\n",
    "            for x in tag.findAll('div', {'class':'comp mntl-sc-block mntl-sc-block-html'}):\n",
    "                description.append(x.text.strip())\n",
    "        if description:\n",
    "            recipe_dict['description'] = ' '.join(description)\n",
    "        else:\n",
    "            recipe_dict['description'] = None\n",
    "            \n",
    "        # Gets image\n",
    "        image = soup.find('img', {'class':'figure__image js-figure-image'})\n",
    "        if image:\n",
    "            recipe_dict['image'] = image.get('src')\n",
    "        else:\n",
    "            recipe_dict['image'] = None\n",
    "        \n",
    "        # Gets ingredients\n",
    "        tag = soup.find('section', {'id':'section--ingredients_1-0'})\n",
    "        ingredients = []\n",
    "        if tag:\n",
    "            for x in tag.findAll('li'):\n",
    "                ingredients.append(x.text.strip())\n",
    "        recipe_dict['ingredients'] = ingredients\n",
    "        \n",
    "        # Gets prep time\n",
    "        try:\n",
    "            recipe_dict['prep_time'] = (soup.find('span', {'id':'meta-text_1-0'})\n",
    "                                            .find('span', {'class':'meta-text__data'})\n",
    "                                            .text)\n",
    "        except:\n",
    "            recipe_dict['prep_time'] = None\n",
    "        \n",
    "        # Gets instructions\n",
    "        tag = soup.find('section', {'id':'section--instructions_1-0'})\n",
    "        instructions = []\n",
    "        if tag:\n",
    "            for x in tag.findAll('div', {'class':'comp mntl-sc-block mntl-sc-block-html'}):\n",
    "                instructions.append(x.text.strip())\n",
    "        if instructions:\n",
    "            recipe_dict['instructions'] = ' '.join(instructions)\n",
    "        else:\n",
    "            recipe_dict['instructions'] = None\n",
    "        \n",
    "        recipes.append(recipe_dict)\n",
    "        \n",
    "        # Pause every 20 sites\n",
    "        if ind % 20 == 0:\n",
    "            time.sleep(10)\n",
    "        \n",
    "    # Writes out pickle of recipes\n",
    "    var_to_pickle(recipes, recipes_pk)"
   ]
  },
  {
   "cell_type": "markdown",
   "metadata": {},
   "source": [
    "### Merge Dataframe"
   ]
  },
  {
   "cell_type": "code",
   "execution_count": 6,
   "metadata": {},
   "outputs": [],
   "source": [
    "df = df.merge(pd.DataFrame(recipes), left_index=True, right_index=True)"
   ]
  },
  {
   "cell_type": "code",
   "execution_count": 7,
   "metadata": {},
   "outputs": [],
   "source": [
    "# Remove any rows that have missing values\n",
    "df.dropna(inplace=True)\n",
    "df.reset_index(drop=True, inplace=True)"
   ]
  },
  {
   "cell_type": "markdown",
   "metadata": {},
   "source": [
    "### Add Description Lengths"
   ]
  },
  {
   "cell_type": "code",
   "execution_count": 8,
   "metadata": {},
   "outputs": [],
   "source": [
    "df['desc_length'] = df['description'].str.len()"
   ]
  },
  {
   "cell_type": "markdown",
   "metadata": {},
   "source": [
    "### Pre-process Descriptions"
   ]
  },
  {
   "cell_type": "code",
   "execution_count": 49,
   "metadata": {},
   "outputs": [],
   "source": [
    "import re\n",
    "from textblob import TextBlob\n",
    "from nltk.stem import WordNetLemmatizer\n",
    "from sklearn.feature_extraction.text import TfidfVectorizer"
   ]
  },
  {
   "cell_type": "code",
   "execution_count": 52,
   "metadata": {},
   "outputs": [],
   "source": [
    "def desc_prepro(desc):\n",
    "    pos_keep = ['FW', 'JJ', 'JJR', 'JJS', 'MD', 'NN', 'NNS', 'NNP', 'NNPS', 'RB',\n",
    "                'RBR', 'RBS', 'UH', 'VB', 'VBZ', 'VBP', 'VBD', 'VBN', 'VBG']\n",
    "    desc = re.sub('[^[A-za-z ]]*', '', desc)\n",
    "    tb = TextBlob(desc)\n",
    "    words = []\n",
    "    return desc"
   ]
  },
  {
   "cell_type": "code",
   "execution_count": 53,
   "metadata": {},
   "outputs": [],
   "source": [
    "g = desc_prepro(df.sample(1)['description'].values[0])\n",
    "tb = TextBlob(g)"
   ]
  },
  {
   "cell_type": "code",
   "execution_count": 57,
   "metadata": {},
   "outputs": [
    {
     "data": {
      "text/plain": [
       "('Theres', 'VBZ')"
      ]
     },
     "execution_count": 57,
     "metadata": {},
     "output_type": "execute_result"
    }
   ],
   "source": [
    "tb.tags[0]"
   ]
  },
  {
   "cell_type": "code",
   "execution_count": 10,
   "metadata": {},
   "outputs": [],
   "source": [
    "df['proc_desc'] = df['description'].map(desc_prepro)"
   ]
  },
  {
   "cell_type": "code",
   "execution_count": 11,
   "metadata": {},
   "outputs": [
    {
     "data": {
      "text/html": [
       "<div>\n",
       "<style scoped>\n",
       "    .dataframe tbody tr th:only-of-type {\n",
       "        vertical-align: middle;\n",
       "    }\n",
       "\n",
       "    .dataframe tbody tr th {\n",
       "        vertical-align: top;\n",
       "    }\n",
       "\n",
       "    .dataframe thead th {\n",
       "        text-align: right;\n",
       "    }\n",
       "</style>\n",
       "<table border=\"1\" class=\"dataframe\">\n",
       "  <thead>\n",
       "    <tr style=\"text-align: right;\">\n",
       "      <th></th>\n",
       "      <th>base_spirits</th>\n",
       "      <th>name</th>\n",
       "      <th>url</th>\n",
       "      <th>name_words</th>\n",
       "      <th>description</th>\n",
       "      <th>image</th>\n",
       "      <th>ingredients</th>\n",
       "      <th>instructions</th>\n",
       "      <th>prep_time</th>\n",
       "      <th>desc_length</th>\n",
       "      <th>proc_desc</th>\n",
       "    </tr>\n",
       "  </thead>\n",
       "  <tbody>\n",
       "    <tr>\n",
       "      <th>281</th>\n",
       "      <td>(gin,)</td>\n",
       "      <td>gin buck</td>\n",
       "      <td>https://www.thespruceeats.com/gin-buck-cocktai...</td>\n",
       "      <td>[gin, buck]</td>\n",
       "      <td>Many of the best mixed drinks are the easiest ...</td>\n",
       "      <td>https://www.thespruceeats.com/thmb/xT7nMgvlRmb...</td>\n",
       "      <td>[2 ounces gin, 3​ ounces Ginger ale, Garnish: ...</td>\n",
       "      <td>Gather the ingredients. Pour the gin into an i...</td>\n",
       "      <td>3 mins</td>\n",
       "      <td>815</td>\n",
       "      <td>many of the best mixed drinks are the easiest ...</td>\n",
       "    </tr>\n",
       "    <tr>\n",
       "      <th>610</th>\n",
       "      <td>(whiskey,)</td>\n",
       "      <td>ruby queen</td>\n",
       "      <td>https://www.thespruceeats.com/ruby-queen-cockt...</td>\n",
       "      <td>[ruby, queen]</td>\n",
       "      <td>Have you ever wondered if you could mix Scotch...</td>\n",
       "      <td>https://www.thespruceeats.com/thmb/27Gty2xCHs2...</td>\n",
       "      <td>[1 1/2 ounces Cutty Sark Blended Scotch Whisky...</td>\n",
       "      <td>Pour the ingredients into a cocktail shaker fi...</td>\n",
       "      <td>3 mins</td>\n",
       "      <td>1315</td>\n",
       "      <td>have you ever wondered if you could mix scotch...</td>\n",
       "    </tr>\n",
       "    <tr>\n",
       "      <th>163</th>\n",
       "      <td>(rum,)</td>\n",
       "      <td>chicago fizz</td>\n",
       "      <td>https://www.thespruceeats.com/classic-chicago-...</td>\n",
       "      <td>[chicago, fizz]</td>\n",
       "      <td>The Chicago Fizz is a classic mixed drink that...</td>\n",
       "      <td>https://www.thespruceeats.com/thmb/-K3RQMv-2Ok...</td>\n",
       "      <td>[1 ounce dark rum, 1 ounce ruby port, 1/2 ounc...</td>\n",
       "      <td>Pour all ingredients (except the soda) into a ...</td>\n",
       "      <td>4 mins</td>\n",
       "      <td>769</td>\n",
       "      <td>the chicago fizz is a classic mixed drink that...</td>\n",
       "    </tr>\n",
       "    <tr>\n",
       "      <th>410</th>\n",
       "      <td>(gin,)</td>\n",
       "      <td>lavender sapphire collins</td>\n",
       "      <td>https://www.thespruceeats.com/lavender-sapphir...</td>\n",
       "      <td>[lavender, sapphire, collins]</td>\n",
       "      <td>The Lavender Sapphire Collins is a delightful ...</td>\n",
       "      <td>https://www.thespruceeats.com/thmb/8Co8cvZ3sgC...</td>\n",
       "      <td>[1 1/2 ounces Bombay Sapphire Gin, 3/4 ounce f...</td>\n",
       "      <td>Squeeze the juice of half a lemon into a colli...</td>\n",
       "      <td>3 mins</td>\n",
       "      <td>746</td>\n",
       "      <td>the lavender sapphire collins is a delightful ...</td>\n",
       "    </tr>\n",
       "    <tr>\n",
       "      <th>560</th>\n",
       "      <td>(vodka,)</td>\n",
       "      <td>pot of gold</td>\n",
       "      <td>https://www.thespruceeats.com/pot-of-gold-cock...</td>\n",
       "      <td>[pot, of, gold]</td>\n",
       "      <td>Simple, elegant, refreshing, and quite lovely,...</td>\n",
       "      <td>https://www.thespruceeats.com/thmb/y6wSdUAyLBv...</td>\n",
       "      <td>[2 ounces vodka, 1/2 ounce elderflower liqueur...</td>\n",
       "      <td>Gather the ingredients. In the bottom of a coc...</td>\n",
       "      <td>3 mins</td>\n",
       "      <td>623</td>\n",
       "      <td>simple elegant refreshing and quite lovely tha...</td>\n",
       "    </tr>\n",
       "  </tbody>\n",
       "</table>\n",
       "</div>"
      ],
      "text/plain": [
       "    base_spirits                       name  \\\n",
       "281       (gin,)                   gin buck   \n",
       "610   (whiskey,)                 ruby queen   \n",
       "163       (rum,)               chicago fizz   \n",
       "410       (gin,)  lavender sapphire collins   \n",
       "560     (vodka,)                pot of gold   \n",
       "\n",
       "                                                   url  \\\n",
       "281  https://www.thespruceeats.com/gin-buck-cocktai...   \n",
       "610  https://www.thespruceeats.com/ruby-queen-cockt...   \n",
       "163  https://www.thespruceeats.com/classic-chicago-...   \n",
       "410  https://www.thespruceeats.com/lavender-sapphir...   \n",
       "560  https://www.thespruceeats.com/pot-of-gold-cock...   \n",
       "\n",
       "                        name_words  \\\n",
       "281                    [gin, buck]   \n",
       "610                  [ruby, queen]   \n",
       "163                [chicago, fizz]   \n",
       "410  [lavender, sapphire, collins]   \n",
       "560                [pot, of, gold]   \n",
       "\n",
       "                                           description  \\\n",
       "281  Many of the best mixed drinks are the easiest ...   \n",
       "610  Have you ever wondered if you could mix Scotch...   \n",
       "163  The Chicago Fizz is a classic mixed drink that...   \n",
       "410  The Lavender Sapphire Collins is a delightful ...   \n",
       "560  Simple, elegant, refreshing, and quite lovely,...   \n",
       "\n",
       "                                                 image  \\\n",
       "281  https://www.thespruceeats.com/thmb/xT7nMgvlRmb...   \n",
       "610  https://www.thespruceeats.com/thmb/27Gty2xCHs2...   \n",
       "163  https://www.thespruceeats.com/thmb/-K3RQMv-2Ok...   \n",
       "410  https://www.thespruceeats.com/thmb/8Co8cvZ3sgC...   \n",
       "560  https://www.thespruceeats.com/thmb/y6wSdUAyLBv...   \n",
       "\n",
       "                                           ingredients  \\\n",
       "281  [2 ounces gin, 3​ ounces Ginger ale, Garnish: ...   \n",
       "610  [1 1/2 ounces Cutty Sark Blended Scotch Whisky...   \n",
       "163  [1 ounce dark rum, 1 ounce ruby port, 1/2 ounc...   \n",
       "410  [1 1/2 ounces Bombay Sapphire Gin, 3/4 ounce f...   \n",
       "560  [2 ounces vodka, 1/2 ounce elderflower liqueur...   \n",
       "\n",
       "                                          instructions prep_time  desc_length  \\\n",
       "281  Gather the ingredients. Pour the gin into an i...    3 mins          815   \n",
       "610  Pour the ingredients into a cocktail shaker fi...    3 mins         1315   \n",
       "163  Pour all ingredients (except the soda) into a ...    4 mins          769   \n",
       "410  Squeeze the juice of half a lemon into a colli...    3 mins          746   \n",
       "560  Gather the ingredients. In the bottom of a coc...    3 mins          623   \n",
       "\n",
       "                                             proc_desc  \n",
       "281  many of the best mixed drinks are the easiest ...  \n",
       "610  have you ever wondered if you could mix scotch...  \n",
       "163  the chicago fizz is a classic mixed drink that...  \n",
       "410  the lavender sapphire collins is a delightful ...  \n",
       "560  simple elegant refreshing and quite lovely tha...  "
      ]
     },
     "execution_count": 11,
     "metadata": {},
     "output_type": "execute_result"
    }
   ],
   "source": [
    "df.sample(5)"
   ]
  },
  {
   "cell_type": "markdown",
   "metadata": {},
   "source": [
    "### Stop Words"
   ]
  },
  {
   "cell_type": "code",
   "execution_count": 30,
   "metadata": {},
   "outputs": [],
   "source": [
    "from sklearn.feature_extraction import text\n",
    "stop_words = ['cocktail', 'drink', 'recipe', 'make', 'mix', 'flavor']\n",
    "stop_words = text.ENGLISH_STOP_WORDS.union(stop_words)"
   ]
  },
  {
   "cell_type": "markdown",
   "metadata": {},
   "source": [
    "### Topic Modeling"
   ]
  },
  {
   "cell_type": "code",
   "execution_count": 31,
   "metadata": {},
   "outputs": [],
   "source": [
    "from sklearn.feature_extraction.text import CountVectorizer\n",
    "from gensim import corpora, models, similarities, matutils"
   ]
  },
  {
   "cell_type": "code",
   "execution_count": 32,
   "metadata": {},
   "outputs": [],
   "source": [
    "cv = CountVectorizer(stop_words=stop_words)\n",
    "td_mtx = cv.fit_transform(df['proc_desc'].values).transpose()"
   ]
  },
  {
   "cell_type": "code",
   "execution_count": 33,
   "metadata": {},
   "outputs": [],
   "source": [
    "corpus = matutils.Sparse2Corpus(td_mtx)\n",
    "id2word = dict((v, k) for k, v in cv.vocabulary_.items())"
   ]
  },
  {
   "cell_type": "code",
   "execution_count": 34,
   "metadata": {},
   "outputs": [],
   "source": [
    "lda = models.LdaModel(corpus=corpus, num_topics=10, id2word=id2word, passes=5)"
   ]
  },
  {
   "cell_type": "code",
   "execution_count": 35,
   "metadata": {},
   "outputs": [
    {
     "data": {
      "text/plain": [
       "[(0,\n",
       "  '0.011*\"vodka\" + 0.011*\"mix\" + 0.007*\"perfect\" + 0.007*\"easy\" + 0.006*\"just\" + 0.006*\"make\" + 0.006*\"champagne\" + 0.005*\"blue\" + 0.005*\"flavor\" + 0.005*\"wine\"'),\n",
       " (1,\n",
       "  '0.008*\"punch\" + 0.008*\"simple\" + 0.008*\"make\" + 0.007*\"mix\" + 0.006*\"orange\" + 0.006*\"little\" + 0.006*\"great\" + 0.006*\"sangria\" + 0.005*\"liqueur\" + 0.005*\"makes\"'),\n",
       " (2,\n",
       "  '0.011*\"vodka\" + 0.010*\"irish\" + 0.007*\"cream\" + 0.007*\"whiskey\" + 0.007*\"great\" + 0.007*\"perfect\" + 0.007*\"just\" + 0.007*\"coffee\" + 0.007*\"easy\" + 0.006*\"gin\"'),\n",
       " (3,\n",
       "  '0.013*\"gin\" + 0.009*\"vodka\" + 0.008*\"cocktails\" + 0.008*\"flavor\" + 0.008*\"martini\" + 0.007*\"simple\" + 0.007*\"mix\" + 0.007*\"just\" + 0.007*\"drinks\" + 0.007*\"sweet\"'),\n",
       " (4,\n",
       "  '0.010*\"rum\" + 0.009*\"mix\" + 0.008*\"great\" + 0.008*\"like\" + 0.008*\"classic\" + 0.007*\"drinks\" + 0.006*\"recipes\" + 0.006*\"just\" + 0.006*\"perfect\" + 0.006*\"ingredients\"'),\n",
       " (5,\n",
       "  '0.011*\"vodka\" + 0.011*\"martini\" + 0.009*\"simple\" + 0.007*\"flavor\" + 0.006*\"make\" + 0.006*\"coffee\" + 0.006*\"liqueur\" + 0.005*\"really\" + 0.005*\"soda\" + 0.005*\"little\"'),\n",
       " (6,\n",
       "  '0.009*\"gin\" + 0.009*\"mix\" + 0.009*\"sweet\" + 0.009*\"popular\" + 0.008*\"easy\" + 0.007*\"rum\" + 0.007*\"cocktails\" + 0.007*\"juice\" + 0.007*\"make\" + 0.007*\"flavor\"'),\n",
       " (7,\n",
       "  '0.009*\"great\" + 0.009*\"vodka\" + 0.008*\"simple\" + 0.007*\"beer\" + 0.007*\"mix\" + 0.007*\"easy\" + 0.007*\"flavor\" + 0.006*\"sweet\" + 0.006*\"like\" + 0.006*\"taste\"'),\n",
       " (8,\n",
       "  '0.011*\"vodka\" + 0.010*\"whiskey\" + 0.009*\"taste\" + 0.008*\"liqueur\" + 0.008*\"flavor\" + 0.008*\"martini\" + 0.007*\"ginger\" + 0.007*\"mix\" + 0.007*\"great\" + 0.007*\"easy\"'),\n",
       " (9,\n",
       "  '0.015*\"tequila\" + 0.012*\"margarita\" + 0.008*\"make\" + 0.008*\"like\" + 0.007*\"mix\" + 0.007*\"little\" + 0.007*\"orange\" + 0.007*\"drinks\" + 0.007*\"easy\" + 0.006*\"nice\"')]"
      ]
     },
     "execution_count": 35,
     "metadata": {},
     "output_type": "execute_result"
    }
   ],
   "source": [
    "lda.print_topics()"
   ]
  },
  {
   "cell_type": "markdown",
   "metadata": {},
   "source": [
    "### Train KMeans Model"
   ]
  },
  {
   "cell_type": "code",
   "execution_count": null,
   "metadata": {},
   "outputs": [],
   "source": [
    "import matplotlib.pyplot as plt\n",
    "from sklearn.cluster import KMeans\n",
    "from sklearn.metrics import silhouette_score\n",
    "\n",
    "%matplotlib inline"
   ]
  },
  {
   "cell_type": "code",
   "execution_count": null,
   "metadata": {},
   "outputs": [],
   "source": [
    "tfv = TfidfVectorizer(stop_words='english')\n",
    "descriptions = tfv.fit_transform(df['proc_desc'].values)"
   ]
  },
  {
   "cell_type": "code",
   "execution_count": null,
   "metadata": {},
   "outputs": [],
   "source": [
    "inertias = []\n",
    "sil_scores = []\n",
    "k_clusters = range(2, 30)\n",
    "for k in k_clusters:\n",
    "    km = KMeans(n_clusters=k)\n",
    "    km.fit(descriptions)\n",
    "    inertias.append(km.inertia_)\n",
    "    sil_scores.append(silhouette_score(descriptions, km.labels_, metric='euclidean'))"
   ]
  },
  {
   "cell_type": "code",
   "execution_count": null,
   "metadata": {},
   "outputs": [],
   "source": [
    "fig, (ax1, ax2) = plt.subplots(1,2, figsize=(15,5), sharex=True)\n",
    "ax1.plot(k_clusters, sil_scores)\n",
    "ax1.set_xlabel('number of clusters')\n",
    "ax1.set_ylabel('silhouette coefficient')\n",
    "\n",
    "# plot here on ax2\n",
    "ax2.plot(k_clusters, inertias)\n",
    "ax2.set_xlabel('number of clusters')\n",
    "ax2.set_ylabel('SSE');"
   ]
  },
  {
   "cell_type": "code",
   "execution_count": null,
   "metadata": {},
   "outputs": [],
   "source": [
    "km = KMeans(n_clusters=15)\n",
    "km.fit(descriptions)\n",
    "df['cluster'] = km.labels_"
   ]
  },
  {
   "cell_type": "markdown",
   "metadata": {},
   "source": [
    "### Examine Results"
   ]
  },
  {
   "cell_type": "code",
   "execution_count": null,
   "metadata": {},
   "outputs": [],
   "source": [
    "df['cluster'].value_counts()"
   ]
  },
  {
   "cell_type": "code",
   "execution_count": null,
   "metadata": {},
   "outputs": [],
   "source": [
    "for c in sorted(df['cluster'].unique()):\n",
    "    print(f'Cluster {c}:')\n",
    "    for x in df[df['cluster'] == c].sample(10)[['name', 'base_spirits']].values:\n",
    "        print(x[0].ljust(30)[:30], '\\t', ', '.join(x[1])[:30])\n",
    "    print('')"
   ]
  },
  {
   "cell_type": "code",
   "execution_count": null,
   "metadata": {},
   "outputs": [],
   "source": []
  }
 ],
 "metadata": {
  "kernelspec": {
   "display_name": "Python 3",
   "language": "python",
   "name": "python3"
  },
  "language_info": {
   "codemirror_mode": {
    "name": "ipython",
    "version": 3
   },
   "file_extension": ".py",
   "mimetype": "text/x-python",
   "name": "python",
   "nbconvert_exporter": "python",
   "pygments_lexer": "ipython3",
   "version": "3.7.3"
  }
 },
 "nbformat": 4,
 "nbformat_minor": 2
}
