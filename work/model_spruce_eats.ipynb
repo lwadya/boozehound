{
 "cells": [
  {
   "cell_type": "markdown",
   "metadata": {},
   "source": [
    "# Building a Model Using Spruce Eats Data\n",
    "I used the scraped and cleaned Spruce Eats data to build a recommender engine in this notebook."
   ]
  },
  {
   "cell_type": "markdown",
   "metadata": {},
   "source": [
    "### 1. Imports and Functions\n",
    "* **var_to_pickle**: Writes the given variable to a pickle file\n",
    "* **read_pickle**: Reads the given pickle file"
   ]
  },
  {
   "cell_type": "code",
   "execution_count": 36,
   "metadata": {},
   "outputs": [],
   "source": [
    "import pandas as pd\n",
    "import numpy as np\n",
    "import re\n",
    "import spacy\n",
    "from sklearn.feature_extraction import text\n",
    "from sklearn.feature_extraction.text import TfidfVectorizer\n",
    "from sklearn.metrics import pairwise_distances\n",
    "from sklearn.decomposition import NMF\n",
    "\n",
    "from code.lw_pickle import var_to_pickle, read_pickle"
   ]
  },
  {
   "cell_type": "markdown",
   "metadata": {},
   "source": [
    "### 2. Load DataFrame From Pickle"
   ]
  },
  {
   "cell_type": "code",
   "execution_count": 6,
   "metadata": {},
   "outputs": [],
   "source": [
    "df_pk = '../data/se_df.pk'\n",
    "df = read_pickle(df_pk)"
   ]
  },
  {
   "cell_type": "markdown",
   "metadata": {},
   "source": [
    "### 3. Pre-process Descriptions\n",
    "In this section I lemmatize descriptions using Spacy."
   ]
  },
  {
   "cell_type": "code",
   "execution_count": 7,
   "metadata": {},
   "outputs": [],
   "source": [
    "scy = spacy.load(\"en_core_web_sm\")"
   ]
  },
  {
   "cell_type": "code",
   "execution_count": 30,
   "metadata": {},
   "outputs": [],
   "source": [
    "# Simple script that lemmatizes lists of names and base spirits\n",
    "def list_prepro(items):\n",
    "    item_str = ' '.join(set([i for row in items for i in row]))\n",
    "    doc = scy(item_str)\n",
    "    words = [token.lemma_ for token in doc]\n",
    "    words = list(set(filter(lambda w: '-' not in w, words)))\n",
    "    return words\n",
    "\n",
    "# Simple script that lemmatizes a description\n",
    "def desc_prepro(desc):\n",
    "    pos_keep = ['ADJ', 'NOUN', 'PROPN']\n",
    "    doc = scy(desc)\n",
    "    words = [token.lemma_ for token in doc if token.pos_ in pos_keep]\n",
    "    words = list(filter(lambda w: '-' not in w, words))\n",
    "    return ' '.join(words)"
   ]
  },
  {
   "cell_type": "code",
   "execution_count": 27,
   "metadata": {},
   "outputs": [],
   "source": [
    "descriptions = df['description'].map(desc_prepro)"
   ]
  },
  {
   "cell_type": "markdown",
   "metadata": {},
   "source": [
    "### 4. Create Lists of Stop Words\n",
    "I created separate lists of stop words for two models: one includes several shared stop words and the other is more aggressive, containing drink names and base spirits."
   ]
  },
  {
   "cell_type": "code",
   "execution_count": 34,
   "metadata": {},
   "outputs": [],
   "source": [
    "# Manually-populated list of generic stop words\n",
    "gen_stop_words = ['cocktail', 'drink', 'recipe', 'make', 'mix', 'flavor', 'good',\n",
    "                  'ingredient', 'taste', 'perfect', 'little', 'bar', 'nice', 'blue',\n",
    "                  'great', 'way', 'favorite', 'new', 'popular', 'delicious', 'green',\n",
    "                  'party', 'fun', 'black', 'sure', 'time', 'glass', 'woo', 'year',\n",
    "                  'st', 'shot', 'garnish', 'pink', 'bit', 'different', 'choice',\n",
    "                  'drink', 'bartender', 'recipe', 'fantastic', 'delicious', 'use',\n",
    "                  'taste', 'nice', 'liquor', 'drink', 'bit', 'drinker', 'try']\n",
    "safe_sw = text.ENGLISH_STOP_WORDS.union(gen_stop_words)\n",
    "\n",
    "# Lemmatized lists of base spirits and drink names\n",
    "base_spirits = list_prepro(df['base_spirits'].tolist())\n",
    "name_words = list_prepro(df['name_words'].tolist())\n",
    "\n",
    "fun_sw = text.ENGLISH_STOP_WORDS.union(gen_stop_words + base_spirits + name_words)"
   ]
  },
  {
   "cell_type": "markdown",
   "metadata": {},
   "source": [
    "### 5. Create Safe NMF Recommender\n",
    "This recommender is based on the less aggressive, safe stop words list and returns predictions that contain similar names and base spirits as a given cocktail."
   ]
  },
  {
   "cell_type": "code",
   "execution_count": 39,
   "metadata": {},
   "outputs": [],
   "source": [
    "# Create TF-IDF Matrix\n",
    "safe_tfidf = TfidfVectorizer(stop_words=safe_sw)\n",
    "safe_mtx = safe_tfidf.fit_transform(descriptions.values)\n",
    "\n",
    "# Create NMF Vectors\n",
    "safe_nmf = NMF(n_components = 30)\n",
    "safe_drink_vec = safe_nmf.fit_transform(safe_mtx)\n",
    "safe_word_vec = safe_nmf.components_.transpose()"
   ]
  },
  {
   "cell_type": "markdown",
   "metadata": {},
   "source": [
    "### 6. Create Fun NMF Recommender\n",
    "This recommender is based on the more aggressive stop words list and returns predictions that can differ wildly from a given cocktail."
   ]
  },
  {
   "cell_type": "code",
   "execution_count": 46,
   "metadata": {},
   "outputs": [],
   "source": [
    "# Create TF-IDF Matrix\n",
    "fun_tfidf = TfidfVectorizer(stop_words=fun_sw)\n",
    "fun_mtx = fun_tfidf.fit_transform(descriptions.values)\n",
    "\n",
    "# Create NMF Vectors\n",
    "fun_nmf = NMF(n_components = 25)\n",
    "fun_drink_vec = fun_nmf.fit_transform(fun_mtx)\n",
    "fun_word_vec = fun_nmf.components_.transpose()"
   ]
  },
  {
   "cell_type": "markdown",
   "metadata": {},
   "source": [
    "### >>>>>>NMF Recommender Comparison"
   ]
  },
  {
   "cell_type": "code",
   "execution_count": 299,
   "metadata": {},
   "outputs": [
    {
     "data": {
      "text/plain": [
       "Int64Index([44, 201, 265, 331, 592, 680], dtype='int64')"
      ]
     },
     "execution_count": 299,
     "metadata": {},
     "output_type": "execute_result"
    }
   ],
   "source": [
    "all_idx = df[df['name'].str.contains('daiquiri')].index\n",
    "idx = all_idx[1]\n",
    "all_idx"
   ]
  },
  {
   "cell_type": "code",
   "execution_count": 300,
   "metadata": {},
   "outputs": [
    {
     "data": {
      "text/html": [
       "<div>\n",
       "<style scoped>\n",
       "    .dataframe tbody tr th:only-of-type {\n",
       "        vertical-align: middle;\n",
       "    }\n",
       "\n",
       "    .dataframe tbody tr th {\n",
       "        vertical-align: top;\n",
       "    }\n",
       "\n",
       "    .dataframe thead th {\n",
       "        text-align: right;\n",
       "    }\n",
       "</style>\n",
       "<table border=\"1\" class=\"dataframe\">\n",
       "  <thead>\n",
       "    <tr style=\"text-align: right;\">\n",
       "      <th></th>\n",
       "      <th>name</th>\n",
       "      <th>proc_desc</th>\n",
       "      <th>ingredients</th>\n",
       "    </tr>\n",
       "  </thead>\n",
       "  <tbody>\n",
       "    <tr>\n",
       "      <th>201</th>\n",
       "      <td>daiquiri</td>\n",
       "      <td>original daiquiri simple recipe that common in...</td>\n",
       "      <td>[1 1/2 ounces rum (light), 3/4 ounce ​​lime ju...</td>\n",
       "    </tr>\n",
       "    <tr>\n",
       "      <th>483</th>\n",
       "      <td>naked lady</td>\n",
       "      <td>element great tasting cocktail bacardi rum nak...</td>\n",
       "      <td>[1 1/2 ounces rum (Bacardi Superior), 1 1/2 ou...</td>\n",
       "    </tr>\n",
       "    <tr>\n",
       "      <th>265</th>\n",
       "      <td>frozen daiquiri</td>\n",
       "      <td>daiquiri popular tropical cocktail many fruity...</td>\n",
       "      <td>[3/4 cup ​ice, 2 ounces ​rum (aged or gold), 1...</td>\n",
       "    </tr>\n",
       "    <tr>\n",
       "      <th>331</th>\n",
       "      <td>hemingway daiquiri</td>\n",
       "      <td>hemingway daiquiri papa doble hemingway specia...</td>\n",
       "      <td>[2 ounces white rum, 1/4 ounce maraschino liqu...</td>\n",
       "    </tr>\n",
       "    <tr>\n",
       "      <th>195</th>\n",
       "      <td>cuba libre</td>\n",
       "      <td>cuba libre recipe easy popular mixed drink fam...</td>\n",
       "      <td>[1/2 lime (juiced), 2 ounces light rum, 4 ounc...</td>\n",
       "    </tr>\n",
       "    <tr>\n",
       "      <th>36</th>\n",
       "      <td>bacardi cocktail</td>\n",
       "      <td>drink bacardi rum few recipe fitting original ...</td>\n",
       "      <td>[2 ounces Light Rum (Bacardi), 1/2 ounce lemon...</td>\n",
       "    </tr>\n",
       "    <tr>\n",
       "      <th>44</th>\n",
       "      <td>banana daiquiri</td>\n",
       "      <td>banana daiquiri favorite many frozen cocktail ...</td>\n",
       "      <td>[1 1/2 ounces light rum, 1/2 ounce triple sec,...</td>\n",
       "    </tr>\n",
       "    <tr>\n",
       "      <th>126</th>\n",
       "      <td>cable car</td>\n",
       "      <td>cable car excellent rum sour cocktail tony abo...</td>\n",
       "      <td>[1 1/2 ounces Captain Morgan Spice Rum, 3/4 ou...</td>\n",
       "    </tr>\n",
       "    <tr>\n",
       "      <th>434</th>\n",
       "      <td>mai tai</td>\n",
       "      <td>mai tai iconic rum tiki scene classic rum cock...</td>\n",
       "      <td>[1 ounce light rum, 1 ounce Jamaican rum, 1 ou...</td>\n",
       "    </tr>\n",
       "    <tr>\n",
       "      <th>228</th>\n",
       "      <td>el presidente</td>\n",
       "      <td>el presidente fantastic rum cocktail vermouth ...</td>\n",
       "      <td>[1 1/2 ounces light rum, 3/4 ounce orange cura...</td>\n",
       "    </tr>\n",
       "  </tbody>\n",
       "</table>\n",
       "</div>"
      ],
      "text/plain": [
       "                   name                                          proc_desc  \\\n",
       "201            daiquiri  original daiquiri simple recipe that common in...   \n",
       "483          naked lady  element great tasting cocktail bacardi rum nak...   \n",
       "265     frozen daiquiri  daiquiri popular tropical cocktail many fruity...   \n",
       "331  hemingway daiquiri  hemingway daiquiri papa doble hemingway specia...   \n",
       "195          cuba libre  cuba libre recipe easy popular mixed drink fam...   \n",
       "36     bacardi cocktail  drink bacardi rum few recipe fitting original ...   \n",
       "44      banana daiquiri  banana daiquiri favorite many frozen cocktail ...   \n",
       "126           cable car  cable car excellent rum sour cocktail tony abo...   \n",
       "434             mai tai  mai tai iconic rum tiki scene classic rum cock...   \n",
       "228       el presidente  el presidente fantastic rum cocktail vermouth ...   \n",
       "\n",
       "                                           ingredients  \n",
       "201  [1 1/2 ounces rum (light), 3/4 ounce ​​lime ju...  \n",
       "483  [1 1/2 ounces rum (Bacardi Superior), 1 1/2 ou...  \n",
       "265  [3/4 cup ​ice, 2 ounces ​rum (aged or gold), 1...  \n",
       "331  [2 ounces white rum, 1/4 ounce maraschino liqu...  \n",
       "195  [1/2 lime (juiced), 2 ounces light rum, 4 ounc...  \n",
       "36   [2 ounces Light Rum (Bacardi), 1/2 ounce lemon...  \n",
       "44   [1 1/2 ounces light rum, 1/2 ounce triple sec,...  \n",
       "126  [1 1/2 ounces Captain Morgan Spice Rum, 3/4 ou...  \n",
       "434  [1 ounce light rum, 1 ounce Jamaican rum, 1 ou...  \n",
       "228  [1 1/2 ounces light rum, 3/4 ounce orange cura...  "
      ]
     },
     "execution_count": 300,
     "metadata": {},
     "output_type": "execute_result"
    }
   ],
   "source": [
    "drink_dist = pairwise_distances(drink_vec, metric='cosine')\n",
    "recos = drink_dist[idx].argsort()[:10].tolist()\n",
    "df.loc[recos][['name', 'proc_desc', 'ingredients']]"
   ]
  },
  {
   "cell_type": "code",
   "execution_count": 311,
   "metadata": {},
   "outputs": [
    {
     "data": {
      "text/html": [
       "<div>\n",
       "<style scoped>\n",
       "    .dataframe tbody tr th:only-of-type {\n",
       "        vertical-align: middle;\n",
       "    }\n",
       "\n",
       "    .dataframe tbody tr th {\n",
       "        vertical-align: top;\n",
       "    }\n",
       "\n",
       "    .dataframe thead th {\n",
       "        text-align: right;\n",
       "    }\n",
       "</style>\n",
       "<table border=\"1\" class=\"dataframe\">\n",
       "  <thead>\n",
       "    <tr style=\"text-align: right;\">\n",
       "      <th></th>\n",
       "      <th>name</th>\n",
       "      <th>proc_desc</th>\n",
       "      <th>ingredients</th>\n",
       "    </tr>\n",
       "  </thead>\n",
       "  <tbody>\n",
       "    <tr>\n",
       "      <th>201</th>\n",
       "      <td>daiquiri</td>\n",
       "      <td>original daiquiri simple recipe that common in...</td>\n",
       "      <td>[1 1/2 ounces rum (light), 3/4 ounce ​​lime ju...</td>\n",
       "    </tr>\n",
       "    <tr>\n",
       "      <th>197</th>\n",
       "      <td>cucumber mint margarita</td>\n",
       "      <td>frozen margarita cool crisp cocktail secret br...</td>\n",
       "      <td>[1/2 cup cucumber (peeled, seeded and chopped)...</td>\n",
       "    </tr>\n",
       "    <tr>\n",
       "      <th>439</th>\n",
       "      <td>mango spice</td>\n",
       "      <td>pepper cocktail attention spicy cocktail mango...</td>\n",
       "      <td>[1 1/2 ounces Absolut Mango Vodka, 1 ounce man...</td>\n",
       "    </tr>\n",
       "    <tr>\n",
       "      <th>697</th>\n",
       "      <td>tangerine margarita</td>\n",
       "      <td>tangerine margarita fresh taste citrus fruit w...</td>\n",
       "      <td>[2 ounces tequila, 1 ounce​ ​orange liqueur, 1...</td>\n",
       "    </tr>\n",
       "    <tr>\n",
       "      <th>210</th>\n",
       "      <td>devil's handshake</td>\n",
       "      <td>devil handshake pleasant mix fruit tequila sem...</td>\n",
       "      <td>[1 1/2 ounces tequila, 3/4​ ounces lime juice,...</td>\n",
       "    </tr>\n",
       "    <tr>\n",
       "      <th>661</th>\n",
       "      <td>sour patch margarita</td>\n",
       "      <td>little sugar gummy child sour patch kids that ...</td>\n",
       "      <td>[2 ounces lime tequila, 1/2 ounce melon liqueu...</td>\n",
       "    </tr>\n",
       "    <tr>\n",
       "      <th>754</th>\n",
       "      <td>watermelon margarita</td>\n",
       "      <td>traditional margaritas call ​triple sec lime l...</td>\n",
       "      <td>[5 cups watermelon (about one 3 to 4-pound mel...</td>\n",
       "    </tr>\n",
       "    <tr>\n",
       "      <th>320</th>\n",
       "      <td>habanero blood orange margarita</td>\n",
       "      <td>spicy margarita recipe that little different m...</td>\n",
       "      <td>[For the Blood Orange Habanero Puree:, 2 pints...</td>\n",
       "    </tr>\n",
       "    <tr>\n",
       "      <th>233</th>\n",
       "      <td>english christmas punch</td>\n",
       "      <td>english christmas punch traditional warm drink...</td>\n",
       "      <td>[750 ml bottle ​dark rum, 750 ml bottle dry re...</td>\n",
       "    </tr>\n",
       "    <tr>\n",
       "      <th>611</th>\n",
       "      <td>ruby rum sunrise</td>\n",
       "      <td>switch rum grapefruit tart upgrade tequila sun...</td>\n",
       "      <td>[2 ounces rum, 1/2 ounce sour mix, 1 1/2 ounce...</td>\n",
       "    </tr>\n",
       "  </tbody>\n",
       "</table>\n",
       "</div>"
      ],
      "text/plain": [
       "                                name  \\\n",
       "201                         daiquiri   \n",
       "197          cucumber mint margarita   \n",
       "439                      mango spice   \n",
       "697              tangerine margarita   \n",
       "210                devil's handshake   \n",
       "661             sour patch margarita   \n",
       "754             watermelon margarita   \n",
       "320  habanero blood orange margarita   \n",
       "233          english christmas punch   \n",
       "611                 ruby rum sunrise   \n",
       "\n",
       "                                             proc_desc  \\\n",
       "201  original daiquiri simple recipe that common in...   \n",
       "197  frozen margarita cool crisp cocktail secret br...   \n",
       "439  pepper cocktail attention spicy cocktail mango...   \n",
       "697  tangerine margarita fresh taste citrus fruit w...   \n",
       "210  devil handshake pleasant mix fruit tequila sem...   \n",
       "661  little sugar gummy child sour patch kids that ...   \n",
       "754  traditional margaritas call ​triple sec lime l...   \n",
       "320  spicy margarita recipe that little different m...   \n",
       "233  english christmas punch traditional warm drink...   \n",
       "611  switch rum grapefruit tart upgrade tequila sun...   \n",
       "\n",
       "                                           ingredients  \n",
       "201  [1 1/2 ounces rum (light), 3/4 ounce ​​lime ju...  \n",
       "197  [1/2 cup cucumber (peeled, seeded and chopped)...  \n",
       "439  [1 1/2 ounces Absolut Mango Vodka, 1 ounce man...  \n",
       "697  [2 ounces tequila, 1 ounce​ ​orange liqueur, 1...  \n",
       "210  [1 1/2 ounces tequila, 3/4​ ounces lime juice,...  \n",
       "661  [2 ounces lime tequila, 1/2 ounce melon liqueu...  \n",
       "754  [5 cups watermelon (about one 3 to 4-pound mel...  \n",
       "320  [For the Blood Orange Habanero Puree:, 2 pints...  \n",
       "233  [750 ml bottle ​dark rum, 750 ml bottle dry re...  \n",
       "611  [2 ounces rum, 1/2 ounce sour mix, 1 1/2 ounce...  "
      ]
     },
     "execution_count": 311,
     "metadata": {},
     "output_type": "execute_result"
    }
   ],
   "source": [
    "drink_dist2 = pairwise_distances(drink_vec2, metric='cosine')\n",
    "recos2 = drink_dist2[idx].argsort()[:10].tolist()\n",
    "df.loc[recos2][['name', 'proc_desc', 'ingredients']]"
   ]
  },
  {
   "cell_type": "markdown",
   "metadata": {},
   "source": [
    "### Test Recommender With Search Term"
   ]
  },
  {
   "cell_type": "code",
   "execution_count": 307,
   "metadata": {},
   "outputs": [
    {
     "data": {
      "text/plain": [
       "(0.5548451272089946, 0.08294488036634144)"
      ]
     },
     "execution_count": 307,
     "metadata": {},
     "output_type": "execute_result"
    }
   ],
   "source": [
    "idx = 201\n",
    "search_term = 'strong scotch smokey'\n",
    "search_vec = nmf_mod.transform(tfv.transform(search_term.split()))\n",
    "search_vec2 = nmf_mod2.transform(tfv2.transform(search_term.split()))\n",
    "search_vec.sum(), search_vec2.sum()"
   ]
  },
  {
   "cell_type": "markdown",
   "metadata": {},
   "source": [
    "Cull drink names from search terms - if a drink is found, look up its recommendations and multiply that vector by the search recommendation vector."
   ]
  },
  {
   "cell_type": "markdown",
   "metadata": {},
   "source": [
    "If search term isn't in corpus for one or the other, the resulting vector will have sum zero. If only the less-populated vector is zero, then we can just use the first vector. If both are zero, then the model cannot use the search term. Maybe it can just return some items randomly selected from popular drinks list?"
   ]
  },
  {
   "cell_type": "code",
   "execution_count": 308,
   "metadata": {},
   "outputs": [],
   "source": [
    "search_vec = np.mean(search_vec, axis=0, keepdims=True)\n",
    "#search_vec = np.mean([search_vec, drink_vec[[idx]]], axis=0)\n",
    "search_vec2 = np.mean(search_vec2, axis=0, keepdims=True)\n",
    "#search_vec2 = np.mean([search_vec2, drink_vec2[[idx]]], axis=0)"
   ]
  },
  {
   "cell_type": "code",
   "execution_count": 309,
   "metadata": {},
   "outputs": [
    {
     "data": {
      "text/html": [
       "<div>\n",
       "<style scoped>\n",
       "    .dataframe tbody tr th:only-of-type {\n",
       "        vertical-align: middle;\n",
       "    }\n",
       "\n",
       "    .dataframe tbody tr th {\n",
       "        vertical-align: top;\n",
       "    }\n",
       "\n",
       "    .dataframe thead th {\n",
       "        text-align: right;\n",
       "    }\n",
       "</style>\n",
       "<table border=\"1\" class=\"dataframe\">\n",
       "  <thead>\n",
       "    <tr style=\"text-align: right;\">\n",
       "      <th></th>\n",
       "      <th>name</th>\n",
       "      <th>proc_desc</th>\n",
       "      <th>ingredients</th>\n",
       "    </tr>\n",
       "  </thead>\n",
       "  <tbody>\n",
       "    <tr>\n",
       "      <th>615</th>\n",
       "      <td>rusty nail</td>\n",
       "      <td>rusty nail ultimate scotch cocktail interested...</td>\n",
       "      <td>[1 1/2 ounces Scotch whiskey, 3/4 ounce Drambuie]</td>\n",
       "    </tr>\n",
       "    <tr>\n",
       "      <th>629</th>\n",
       "      <td>scotch &amp; soda</td>\n",
       "      <td>easy scotch soda name everything popular scotc...</td>\n",
       "      <td>[2 ounces scotch whisky, 6 ounces club soda]</td>\n",
       "    </tr>\n",
       "    <tr>\n",
       "      <th>596</th>\n",
       "      <td>rob roy</td>\n",
       "      <td>rob roy scotch manhattan choice whiskey that o...</td>\n",
       "      <td>[1 1/2 ounces Scotch whisky, 3/4 ounce sweet v...</td>\n",
       "    </tr>\n",
       "    <tr>\n",
       "      <th>297</th>\n",
       "      <td>godfather</td>\n",
       "      <td>godfather nice simple drink that perfect time ...</td>\n",
       "      <td>[1 1/2 ounces Scotch whisky, 1/2 ounce amarett...</td>\n",
       "    </tr>\n",
       "    <tr>\n",
       "      <th>6</th>\n",
       "      <td>affinity</td>\n",
       "      <td>affinity slight variation perfect manhattan th...</td>\n",
       "      <td>[1 1/2 ounce Scotch whisky, 1/2 ounce sweet ve...</td>\n",
       "    </tr>\n",
       "    <tr>\n",
       "      <th>48</th>\n",
       "      <td>barbary coast</td>\n",
       "      <td>barbary coast unique flavor everyone liking re...</td>\n",
       "      <td>[1/2 ounce gin, 1/2 ounce light rum, 1/2 ounce...</td>\n",
       "    </tr>\n",
       "    <tr>\n",
       "      <th>770</th>\n",
       "      <td>witch hunt</td>\n",
       "      <td>witch hunt intriguing scotch lemonade drink na...</td>\n",
       "      <td>[1 1/2 ounces Scotch whisky, 1/2 ounce dry ver...</td>\n",
       "    </tr>\n",
       "    <tr>\n",
       "      <th>299</th>\n",
       "      <td>gold mine</td>\n",
       "      <td>gold mine intriguing lowball drink available m...</td>\n",
       "      <td>[1/2 ounce Scotch whiskey, 1/2 ounce Galliano ...</td>\n",
       "    </tr>\n",
       "    <tr>\n",
       "      <th>597</th>\n",
       "      <td>robert burns</td>\n",
       "      <td>robert burns great classic cocktail golden age...</td>\n",
       "      <td>[2 ounces Scotch whisky, 3/4 ounce sweet vermo...</td>\n",
       "    </tr>\n",
       "    <tr>\n",
       "      <th>775</th>\n",
       "      <td>zesty irishman</td>\n",
       "      <td>zesty irishman surface similar whiskey sour ex...</td>\n",
       "      <td>[3/4 ounce Drambuie, 1 ounce Irish whiskey, 1/...</td>\n",
       "    </tr>\n",
       "  </tbody>\n",
       "</table>\n",
       "</div>"
      ],
      "text/plain": [
       "               name                                          proc_desc  \\\n",
       "615      rusty nail  rusty nail ultimate scotch cocktail interested...   \n",
       "629   scotch & soda  easy scotch soda name everything popular scotc...   \n",
       "596         rob roy  rob roy scotch manhattan choice whiskey that o...   \n",
       "297       godfather  godfather nice simple drink that perfect time ...   \n",
       "6          affinity  affinity slight variation perfect manhattan th...   \n",
       "48    barbary coast  barbary coast unique flavor everyone liking re...   \n",
       "770      witch hunt  witch hunt intriguing scotch lemonade drink na...   \n",
       "299       gold mine  gold mine intriguing lowball drink available m...   \n",
       "597    robert burns  robert burns great classic cocktail golden age...   \n",
       "775  zesty irishman  zesty irishman surface similar whiskey sour ex...   \n",
       "\n",
       "                                           ingredients  \n",
       "615  [1 1/2 ounces Scotch whiskey, 3/4 ounce Drambuie]  \n",
       "629       [2 ounces scotch whisky, 6 ounces club soda]  \n",
       "596  [1 1/2 ounces Scotch whisky, 3/4 ounce sweet v...  \n",
       "297  [1 1/2 ounces Scotch whisky, 1/2 ounce amarett...  \n",
       "6    [1 1/2 ounce Scotch whisky, 1/2 ounce sweet ve...  \n",
       "48   [1/2 ounce gin, 1/2 ounce light rum, 1/2 ounce...  \n",
       "770  [1 1/2 ounces Scotch whisky, 1/2 ounce dry ver...  \n",
       "299  [1/2 ounce Scotch whiskey, 1/2 ounce Galliano ...  \n",
       "597  [2 ounces Scotch whisky, 3/4 ounce sweet vermo...  \n",
       "775  [3/4 ounce Drambuie, 1 ounce Irish whiskey, 1/...  "
      ]
     },
     "execution_count": 309,
     "metadata": {},
     "output_type": "execute_result"
    }
   ],
   "source": [
    "search_dist = pairwise_distances(X=drink_vec, Y=search_vec, metric='cosine')\n",
    "search_recos = search_dist.transpose()[0].argsort()[:10].tolist()\n",
    "df.loc[search_recos][['name', 'proc_desc', 'ingredients']]"
   ]
  },
  {
   "cell_type": "code",
   "execution_count": 310,
   "metadata": {},
   "outputs": [
    {
     "data": {
      "text/html": [
       "<div>\n",
       "<style scoped>\n",
       "    .dataframe tbody tr th:only-of-type {\n",
       "        vertical-align: middle;\n",
       "    }\n",
       "\n",
       "    .dataframe tbody tr th {\n",
       "        vertical-align: top;\n",
       "    }\n",
       "\n",
       "    .dataframe thead th {\n",
       "        text-align: right;\n",
       "    }\n",
       "</style>\n",
       "<table border=\"1\" class=\"dataframe\">\n",
       "  <thead>\n",
       "    <tr style=\"text-align: right;\">\n",
       "      <th></th>\n",
       "      <th>name</th>\n",
       "      <th>proc_desc</th>\n",
       "      <th>ingredients</th>\n",
       "    </tr>\n",
       "  </thead>\n",
       "  <tbody>\n",
       "    <tr>\n",
       "      <th>71</th>\n",
       "      <td>black cat</td>\n",
       "      <td>black cat simple mixed drink that perfect part...</td>\n",
       "      <td>[1 ounce vodka, 1 ounce cherry brandy, 4 ounce...</td>\n",
       "    </tr>\n",
       "    <tr>\n",
       "      <th>141</th>\n",
       "      <td>cape codder</td>\n",
       "      <td>cape cod cape codder easy mixed drink mystery ...</td>\n",
       "      <td>[3 ounces cranberry juice, 2 ounces vodka, Gar...</td>\n",
       "    </tr>\n",
       "    <tr>\n",
       "      <th>584</th>\n",
       "      <td>red lotus</td>\n",
       "      <td>distinct flavor lychee fruit star red lotus co...</td>\n",
       "      <td>[1 1/2 ounces vodka, 1 1/2 ounces lychee lique...</td>\n",
       "    </tr>\n",
       "    <tr>\n",
       "      <th>8</th>\n",
       "      <td>alabama slammer</td>\n",
       "      <td>alabama slammer short history highball shooter...</td>\n",
       "      <td>[1 ounce Southern Comfort, 1 ounce amaretto, 1...</td>\n",
       "    </tr>\n",
       "    <tr>\n",
       "      <th>213</th>\n",
       "      <td>dirty bird</td>\n",
       "      <td>dirty bird fun little cocktail familiar white ...</td>\n",
       "      <td>[1 ounce vodka (or tequila), 1 ounce coffee li...</td>\n",
       "    </tr>\n",
       "    <tr>\n",
       "      <th>705</th>\n",
       "      <td>texas tea</td>\n",
       "      <td>texas tea long island tea shot bourbon simple ...</td>\n",
       "      <td>[1/2 ounce tequila, 1/2 ounce bourbon, 1/2 oun...</td>\n",
       "    </tr>\n",
       "    <tr>\n",
       "      <th>497</th>\n",
       "      <td>nutty irishman</td>\n",
       "      <td>nutty irishman tasty popular drink that variet...</td>\n",
       "      <td>[3/4 ounce Irish cream liqueur, 3/4 ounce haze...</td>\n",
       "    </tr>\n",
       "    <tr>\n",
       "      <th>423</th>\n",
       "      <td>long island iced tea</td>\n",
       "      <td>long island iced tea popular mixed drink name ...</td>\n",
       "      <td>[1/2 ounce triple sec, 1/2 ounce light rum, 1/...</td>\n",
       "    </tr>\n",
       "    <tr>\n",
       "      <th>749</th>\n",
       "      <td>washington apple</td>\n",
       "      <td>washington apple fabulous fun drink tasty whis...</td>\n",
       "      <td>[1 ounce whiskey (Crown Royal Canadian Whiskey...</td>\n",
       "    </tr>\n",
       "    <tr>\n",
       "      <th>713</th>\n",
       "      <td>tornado</td>\n",
       "      <td>tornado strong mixed drink that great visual i...</td>\n",
       "      <td>[1 ounce whiskey, 1 ounce vodka, 1 ounce rum, ...</td>\n",
       "    </tr>\n",
       "  </tbody>\n",
       "</table>\n",
       "</div>"
      ],
      "text/plain": [
       "                     name                                          proc_desc  \\\n",
       "71              black cat  black cat simple mixed drink that perfect part...   \n",
       "141           cape codder  cape cod cape codder easy mixed drink mystery ...   \n",
       "584             red lotus  distinct flavor lychee fruit star red lotus co...   \n",
       "8         alabama slammer  alabama slammer short history highball shooter...   \n",
       "213            dirty bird  dirty bird fun little cocktail familiar white ...   \n",
       "705             texas tea  texas tea long island tea shot bourbon simple ...   \n",
       "497        nutty irishman  nutty irishman tasty popular drink that variet...   \n",
       "423  long island iced tea  long island iced tea popular mixed drink name ...   \n",
       "749      washington apple  washington apple fabulous fun drink tasty whis...   \n",
       "713               tornado  tornado strong mixed drink that great visual i...   \n",
       "\n",
       "                                           ingredients  \n",
       "71   [1 ounce vodka, 1 ounce cherry brandy, 4 ounce...  \n",
       "141  [3 ounces cranberry juice, 2 ounces vodka, Gar...  \n",
       "584  [1 1/2 ounces vodka, 1 1/2 ounces lychee lique...  \n",
       "8    [1 ounce Southern Comfort, 1 ounce amaretto, 1...  \n",
       "213  [1 ounce vodka (or tequila), 1 ounce coffee li...  \n",
       "705  [1/2 ounce tequila, 1/2 ounce bourbon, 1/2 oun...  \n",
       "497  [3/4 ounce Irish cream liqueur, 3/4 ounce haze...  \n",
       "423  [1/2 ounce triple sec, 1/2 ounce light rum, 1/...  \n",
       "749  [1 ounce whiskey (Crown Royal Canadian Whiskey...  \n",
       "713  [1 ounce whiskey, 1 ounce vodka, 1 ounce rum, ...  "
      ]
     },
     "execution_count": 310,
     "metadata": {},
     "output_type": "execute_result"
    }
   ],
   "source": [
    "search_dist2 = pairwise_distances(X=drink_vec2, Y=search_vec2, metric='cosine')\n",
    "search_recos2 = search_dist2.transpose()[0].argsort()[:10].tolist()\n",
    "df.loc[search_recos2][['name', 'proc_desc', 'ingredients']]"
   ]
  }
 ],
 "metadata": {
  "kernelspec": {
   "display_name": "Python 3",
   "language": "python",
   "name": "python3"
  },
  "language_info": {
   "codemirror_mode": {
    "name": "ipython",
    "version": 3
   },
   "file_extension": ".py",
   "mimetype": "text/x-python",
   "name": "python",
   "nbconvert_exporter": "python",
   "pygments_lexer": "ipython3",
   "version": "3.7.3"
  }
 },
 "nbformat": 4,
 "nbformat_minor": 2
}
