{
 "cells": [
  {
   "cell_type": "markdown",
   "metadata": {},
   "source": [
    "# Building NMF Model Using Spruce Eats Data\n",
    "I used the scraped and cleaned Spruce Eats data to build a recommender engine in this notebook. It loads the **se_df.pk** pickle data created in the **scrape_spruce_eats** notebook."
   ]
  },
  {
   "cell_type": "markdown",
   "metadata": {},
   "source": [
    "### Table of Contents\n",
    "* [1. Imports and Functions](#sec1)\n",
    "* [2. Load DataFrame From Pickle](#sec2)\n",
    "* [3. Pre-process Descriptions](#sec3)\n",
    "* [4. Create Lists of Stop Words](#sec4)\n",
    "* [5. Create Recommender Model](#sec5)\n",
    "* [6. Recommender Testing](#sec6)\n",
    "* [7. Pickle DataFrame](#sec7)"
   ]
  },
  {
   "cell_type": "markdown",
   "metadata": {},
   "source": [
    "<a id='sec1'></a>\n",
    "### 1. Imports and Functions\n",
    "* **var_to_pickle**: Writes the given variable to a pickle file\n",
    "* **read_pickle**: Reads the given pickle file\n",
    "* **cocktail_recommender**: Builds recommendation engine using NMF"
   ]
  },
  {
   "cell_type": "code",
   "execution_count": 1,
   "metadata": {},
   "outputs": [],
   "source": [
    "import sys\n",
    "import pandas as pd\n",
    "import numpy as np\n",
    "import re\n",
    "import spacy\n",
    "from sklearn.feature_extraction import text\n",
    "\n",
    "sys.path.append('../code')\n",
    "from lw_pickle import var_to_pickle, read_pickle\n",
    "from cocktail_recommender import cocktail_recommender"
   ]
  },
  {
   "cell_type": "markdown",
   "metadata": {},
   "source": [
    "<a id='sec2'></a>\n",
    "### 2. Load DataFrame From Pickle\n",
    "This cell loads the final DataFrame of scraped and organized cocktail recipes."
   ]
  },
  {
   "cell_type": "code",
   "execution_count": 2,
   "metadata": {},
   "outputs": [],
   "source": [
    "df_pk = '../data/se_df.pk'\n",
    "df = read_pickle(df_pk)"
   ]
  },
  {
   "cell_type": "markdown",
   "metadata": {},
   "source": [
    "<a id='sec3'></a>\n",
    "### 3. Pre-process Descriptions\n",
    "In this section I created a pair of text preprocessing functions that lemmatize words using Spacy. I then restricted drink descriptions to nouns and adjectives and lemmatized them."
   ]
  },
  {
   "cell_type": "code",
   "execution_count": 3,
   "metadata": {},
   "outputs": [],
   "source": [
    "scy = spacy.load(\"en_core_web_sm\")"
   ]
  },
  {
   "cell_type": "code",
   "execution_count": 4,
   "metadata": {},
   "outputs": [],
   "source": [
    "# Simple function that lemmatizes lists of names and base spirits\n",
    "def list_prepro(items):\n",
    "    item_str = ' '.join(set([i for row in items for i in row]))\n",
    "    doc = scy(item_str)\n",
    "    words = [token.lemma_ for token in doc]\n",
    "    words = list(set(filter(lambda w: '-' not in w, words)))\n",
    "    return words\n",
    "\n",
    "# Simple function that lemmatizes a description\n",
    "def desc_prepro(desc):\n",
    "    pos_keep = ['ADJ', 'NOUN', 'PROPN']\n",
    "    doc = scy(desc)\n",
    "    words = [token.lemma_ for token in doc if token.pos_ in pos_keep]\n",
    "    words = list(filter(lambda w: '-' not in w, words))\n",
    "    return ' '.join(words)"
   ]
  },
  {
   "cell_type": "code",
   "execution_count": 5,
   "metadata": {},
   "outputs": [],
   "source": [
    "df['description'] = df['description'].map(desc_prepro)"
   ]
  },
  {
   "cell_type": "markdown",
   "metadata": {},
   "source": [
    "<a id='sec4'></a>\n",
    "### 4. Create Lists of Stop Words\n",
    "I created separate lists of stop words for two models: one includes several shared stop words and the other is more aggressive, containing drink names and base spirits as well."
   ]
  },
  {
   "cell_type": "code",
   "execution_count": 6,
   "metadata": {},
   "outputs": [],
   "source": [
    "# Manually-populated list of generic stop words\n",
    "gen_stop_words = ['cocktail', 'drink', 'recipe', 'make', 'mix', 'flavor', 'good',\n",
    "                  'ingredient', 'taste', 'perfect', 'little', 'bar', 'nice', 'blue',\n",
    "                  'great', 'way', 'favorite', 'new', 'popular', 'delicious', 'green',\n",
    "                  'party', 'fun', 'black', 'sure', 'time', 'glass', 'woo', 'year',\n",
    "                  'st', 'shot', 'garnish', 'pink', 'bit', 'different', 'choice',\n",
    "                  'drink', 'bartender', 'recipe', 'fantastic', 'delicious', 'use',\n",
    "                  'taste', 'nice', 'liquor', 'drink', 'bit', 'drinker', 'try']\n",
    "safe_sw = text.ENGLISH_STOP_WORDS.union(gen_stop_words)\n",
    "\n",
    "# Lemmatized lists of base spirits and drink names\n",
    "base_spirits = list_prepro(df['base_spirits'].tolist())\n",
    "name_words = list_prepro(df['name_words'].tolist())\n",
    "\n",
    "fun_sw = text.ENGLISH_STOP_WORDS.union(gen_stop_words + base_spirits + name_words)"
   ]
  },
  {
   "cell_type": "markdown",
   "metadata": {},
   "source": [
    "<a id='sec5'></a>\n",
    "### 5. Create Recommender Model\n",
    "The imported **cocktail_recommender** class takes the cocktail DataFrame and stop words lists as input to create two sets of NMF vectors. The safe and fun stop words vectors blend to create a single, adjustable model. The input string is converted to an NMF vector, which is then used to find the most similar recipes to that input."
   ]
  },
  {
   "cell_type": "code",
   "execution_count": 7,
   "metadata": {},
   "outputs": [],
   "source": [
    "cr = cocktail_recommender(df, safe_sw, fun_sw)"
   ]
  },
  {
   "cell_type": "markdown",
   "metadata": {},
   "source": [
    "<a id='sec6'></a>\n",
    "### 6. Recommender Testing\n",
    "This cell is for testing recommender calls."
   ]
  },
  {
   "cell_type": "code",
   "execution_count": 8,
   "metadata": {},
   "outputs": [
    {
     "data": {
      "text/plain": [
       "613        rustic manhattan\n",
       "45           banana hammock\n",
       "612              rum runner\n",
       "359               hurricane\n",
       "196              cuban rose\n",
       "426           lounge lizard\n",
       "488         nevada cocktail\n",
       "774          zesty irishman\n",
       "688    swamp water surprise\n",
       "36         bacardi cocktail\n",
       "Name: name, dtype: object"
      ]
     },
     "execution_count": 8,
     "metadata": {},
     "output_type": "execute_result"
    }
   ],
   "source": [
    "cr.recommend('rum', exclude_inputs=False, weirdness=.5)[1]['name']"
   ]
  },
  {
   "cell_type": "markdown",
   "metadata": {},
   "source": [
    "<a id='sec7'></a>\n",
    "### 7. Pickle DataFrame\n",
    "Saves the recommender to a pickle file."
   ]
  },
  {
   "cell_type": "code",
   "execution_count": 9,
   "metadata": {},
   "outputs": [],
   "source": [
    "reco_pk = '../data/reco.pk'\n",
    "var_to_pickle(cr, reco_pk)"
   ]
  },
  {
   "cell_type": "code",
   "execution_count": null,
   "metadata": {},
   "outputs": [],
   "source": []
  }
 ],
 "metadata": {
  "kernelspec": {
   "display_name": "Python 3",
   "language": "python",
   "name": "python3"
  },
  "language_info": {
   "codemirror_mode": {
    "name": "ipython",
    "version": 3
   },
   "file_extension": ".py",
   "mimetype": "text/x-python",
   "name": "python",
   "nbconvert_exporter": "python",
   "pygments_lexer": "ipython3",
   "version": "3.7.3"
  }
 },
 "nbformat": 4,
 "nbformat_minor": 2
}
